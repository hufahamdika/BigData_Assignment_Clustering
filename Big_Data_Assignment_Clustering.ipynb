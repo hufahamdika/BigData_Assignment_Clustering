{
  "nbformat": 4,
  "nbformat_minor": 0,
  "metadata": {
    "colab": {
      "provenance": [],
      "authorship_tag": "ABX9TyPtHK9PnvA+ZPhL2aVLHxsc"
    },
    "kernelspec": {
      "name": "python3",
      "display_name": "Python 3"
    },
    "language_info": {
      "name": "python"
    }
  },
  "cells": [
    {
      "cell_type": "markdown",
      "source": [
        "# Big Data Assignment for Clustering\n",
        "\n",
        "- Name : Abidjanna Zulfa Hamdika\n",
        "- Student ID : 5025201197\n",
        "- Class : Big Data A"
      ],
      "metadata": {
        "id": "9bWafWD0GIWF"
      }
    },
    {
      "cell_type": "markdown",
      "source": [
        "Source : \n",
        "- https://medium.com/@josephgeorgelewis2000/end-to-end-pyspark-clustering-part-i-using-colab-for-pyspark-and-collecting-data-6b94b58baeab\n",
        "\n",
        "- https://medium.com/@josephgeorgelewis2000/end-to-end-pyspark-clustering-part-ii-preprocessing-and-model-building-in-colab-1c2d0d8f2a23"
      ],
      "metadata": {
        "id": "veBtGNFbHUW5"
      }
    },
    {
      "cell_type": "markdown",
      "source": [
        "# Setting Up PySpark Environment"
      ],
      "metadata": {
        "id": "TPSP_CIBHCmt"
      }
    },
    {
      "cell_type": "code",
      "source": [
        "# set up Java Dev Kit and download Spark and Hadoop \n",
        "!apt-get install openjdk-8-jdk-headless -qq > /dev/null\n",
        "!wget https://downloads.apache.org/spark/spark-3.2.4/spark-3.2.4-bin-hadoop3.2.tgz\n",
        "\n",
        "# unpack Spark and Hadoop\n",
        "!tar xf spark-3.2.4-bin-hadoop3.2.tgz\n",
        "\n",
        "# set up home paths for Java and Spark\n",
        "import os\n",
        "os.environ[\"JAVA_HOME\"] = \"/usr/lib/jvm/java-8-openjdk-amd64\"\n",
        "os.environ[\"SPARK_HOME\"] = \"/content/spark-3.2.4-bin-hadoop3.2\""
      ],
      "metadata": {
        "colab": {
          "base_uri": "https://localhost:8080/"
        },
        "id": "S9DTkoTCGPF9",
        "outputId": "680b11ba-8a4e-47e5-c292-fd3e6a47388b"
      },
      "execution_count": null,
      "outputs": [
        {
          "output_type": "stream",
          "name": "stdout",
          "text": [
            "--2023-05-30 14:44:22--  https://downloads.apache.org/spark/spark-3.2.4/spark-3.2.4-bin-hadoop3.2.tgz\n",
            "Resolving downloads.apache.org (downloads.apache.org)... 88.99.95.219, 135.181.214.104, 2a01:4f9:3a:2c57::2, ...\n",
            "Connecting to downloads.apache.org (downloads.apache.org)|88.99.95.219|:443... connected.\n",
            "HTTP request sent, awaiting response... 200 OK\n",
            "Length: 301183180 (287M) [application/x-gzip]\n",
            "Saving to: ‘spark-3.2.4-bin-hadoop3.2.tgz.2’\n",
            "\n",
            "spark-3.2.4-bin-had 100%[===================>] 287.23M  12.1MB/s    in 26s     \n",
            "\n",
            "2023-05-30 14:44:49 (11.1 MB/s) - ‘spark-3.2.4-bin-hadoop3.2.tgz.2’ saved [301183180/301183180]\n",
            "\n"
          ]
        }
      ]
    },
    {
      "cell_type": "code",
      "source": [
        "# install, import and initialise findspark \n",
        "!pip install -q findspark\n",
        "import findspark\n",
        "findspark.init()\n",
        "\n",
        "# set up spark session \n",
        "from pyspark.sql import SparkSession\n",
        "spark = SparkSession.builder\\\n",
        "        .master(\"local\")\\\n",
        "        .appName(\"Colab\")\\\n",
        "        .config('spark.ui.port', '4050')\\\n",
        "        .getOrCreate()"
      ],
      "metadata": {
        "id": "98UKQreUGYnI"
      },
      "execution_count": null,
      "outputs": []
    },
    {
      "cell_type": "markdown",
      "source": [
        "# Collecting Data from an API"
      ],
      "metadata": {
        "id": "XANiOyymHPxu"
      }
    },
    {
      "cell_type": "code",
      "source": [
        "import requests\n",
        "import json"
      ],
      "metadata": {
        "id": "9YMHHNRhHw5U"
      },
      "execution_count": null,
      "outputs": []
    },
    {
      "cell_type": "code",
      "source": [
        "# base URL \n",
        "url = 'https://api.le-systeme-solaire.net/rest/bodies'\n",
        "\n",
        "# extra parameters, see full docs for more \n",
        "params = {'exclude' :'mass,vol,moons,discoveredBy,discoveryDate,alternativeName,axialTilt,avgTemp,mainAnomaly,argPeriapsis,longAscNode,rel,aroundPlanet,sideralOrbit,sideralRotation,dimension,flattening,polarRadius'}\n",
        "\n",
        "#´make request and store as JSON, then get the bodies element (the data we need)\n",
        "all_data = requests.get(url, params).json()\n",
        "all_data.get('bodies')\n",
        "\n",
        "# save file with data from the current request so we do not have to make multiple API calls to reset the data\n",
        "\n",
        "with open('data.json', 'w') as f:\n",
        "    json.dump(all_data.get('bodies'), f)"
      ],
      "metadata": {
        "id": "IoMNmSRaGhzX"
      },
      "execution_count": null,
      "outputs": []
    },
    {
      "cell_type": "code",
      "source": [
        "from pyspark.sql.types import StructType, StructField, BooleanType, FloatType, StringType\n",
        "\n",
        "# set up schema for data to be stored with correct data types and nullable fields \n",
        "schema = StructType([\n",
        "  StructField(\"id\", StringType(), False), \n",
        "  StructField(\"englishName\", StringType(), True),\n",
        "  StructField(\"isPlanet\", BooleanType(), True),\n",
        "  StructField(\"density\", FloatType(), True),\n",
        "  StructField(\"gravity\", FloatType(), True),\n",
        "  StructField(\"escape\", FloatType(), True)\n",
        "])\n",
        "\n",
        "# read in JSON file with the schema set \n",
        "df = spark.read.json('data.json', schema)\n",
        "df.show(5)"
      ],
      "metadata": {
        "colab": {
          "base_uri": "https://localhost:8080/"
        },
        "id": "rfOpl-HzHkA7",
        "outputId": "99aa8cee-dd09-4298-8650-e072e69ca225"
      },
      "execution_count": null,
      "outputs": [
        {
          "output_type": "stream",
          "name": "stdout",
          "text": [
            "+------+-----------+--------+-------+-------+------+\n",
            "|    id|englishName|isPlanet|density|gravity|escape|\n",
            "+------+-----------+--------+-------+-------+------+\n",
            "|  lune|       Moon|   false|  3.344|   1.62|2380.0|\n",
            "|phobos|     Phobos|   false|    1.9| 0.0057| 11.39|\n",
            "|deimos|     Deimos|   false|   1.75|  0.003| 5.556|\n",
            "|    io|         Io|   false|   3.53|   1.79|   0.0|\n",
            "|europe|     Europa|   false|   3.01|   1.31|   0.0|\n",
            "+------+-----------+--------+-------+-------+------+\n",
            "only showing top 5 rows\n",
            "\n"
          ]
        }
      ]
    },
    {
      "cell_type": "markdown",
      "source": [
        "# Data Cleaning"
      ],
      "metadata": {
        "id": "NUDZ0lAhHnva"
      }
    },
    {
      "cell_type": "code",
      "source": [
        "from pyspark.sql.functions import when, count, isnull\n",
        "\n",
        "# alias all columns \n",
        "cols = df.columns\n",
        "\n",
        "# show count of when the column is null for each of those columns\n",
        "df.select([count(when(isnull(c), c)).alias(c) for c in cols]).show()"
      ],
      "metadata": {
        "colab": {
          "base_uri": "https://localhost:8080/"
        },
        "id": "xyPOS2CPHo_j",
        "outputId": "5ae85a9f-cc91-4010-951d-59a51886df97"
      },
      "execution_count": null,
      "outputs": [
        {
          "output_type": "stream",
          "name": "stdout",
          "text": [
            "+---+-----------+--------+-------+-------+------+\n",
            "| id|englishName|isPlanet|density|gravity|escape|\n",
            "+---+-----------+--------+-------+-------+------+\n",
            "|  0|          0|       0|      0|      0|     0|\n",
            "+---+-----------+--------+-------+-------+------+\n",
            "\n"
          ]
        }
      ]
    },
    {
      "cell_type": "code",
      "source": [
        "from pyspark.sql.functions import isnan\n",
        "\n",
        "# check schema to find all numeric cols\n",
        "df.printSchema()  \n",
        "\n",
        "# list all numeric cols \n",
        "num_cols = ['density', 'gravity', 'escape']\n",
        "\n",
        "# select a count of all the numeric columns where they are NaN and show\n",
        "df.select([count(when(isnan(c), c)).alias(c) for c in num_cols]).show()"
      ],
      "metadata": {
        "colab": {
          "base_uri": "https://localhost:8080/"
        },
        "id": "xqWIUHHIIsVV",
        "outputId": "6c5fb418-e417-4048-bc8b-9a1de3492204"
      },
      "execution_count": null,
      "outputs": [
        {
          "output_type": "stream",
          "name": "stdout",
          "text": [
            "root\n",
            " |-- id: string (nullable = true)\n",
            " |-- englishName: string (nullable = true)\n",
            " |-- isPlanet: boolean (nullable = true)\n",
            " |-- density: float (nullable = true)\n",
            " |-- gravity: float (nullable = true)\n",
            " |-- escape: float (nullable = true)\n",
            "\n",
            "+-------+-------+------+\n",
            "|density|gravity|escape|\n",
            "+-------+-------+------+\n",
            "|      0|      0|     0|\n",
            "+-------+-------+------+\n",
            "\n"
          ]
        }
      ]
    },
    {
      "cell_type": "code",
      "source": [
        "import pandas as pd\n",
        "import plotly.express as px\n",
        "\n",
        "# convert the data frame to pandas for visualisation\n",
        "outliers = df.toPandas()\n",
        "\n",
        "# plot a scatter plot of all the points to find obvious outliers\n",
        "scatter = px.scatter(outliers, 'gravity', 'escape', hover_name='englishName', template='ggplot2')\n",
        "scatter.show()\n",
        "\n",
        "# filter out Jupiter from PySpark DF as it was a clear outlier\n",
        "df=df.filter(df.id!='jupiter')\n",
        "\n",
        "# repeat above process to ensure the removal has worked properly\n",
        "outliers = df.toPandas()\n",
        "\n",
        "scatter = px.scatter(outliers, 'gravity', 'escape', hover_name='englishName', template='ggplot2')\n",
        "scatter.show()"
      ],
      "metadata": {
        "colab": {
          "base_uri": "https://localhost:8080/",
          "height": 1000
        },
        "id": "2HH23xqRIsT-",
        "outputId": "c0d9c38d-3f2b-4920-e83b-eccbda34adf5"
      },
      "execution_count": null,
      "outputs": [
        {
          "output_type": "display_data",
          "data": {
            "text/html": [
              "<html>\n",
              "<head><meta charset=\"utf-8\" /></head>\n",
              "<body>\n",
              "    <div>            <script src=\"https://cdnjs.cloudflare.com/ajax/libs/mathjax/2.7.5/MathJax.js?config=TeX-AMS-MML_SVG\"></script><script type=\"text/javascript\">if (window.MathJax && window.MathJax.Hub && window.MathJax.Hub.Config) {window.MathJax.Hub.Config({SVG: {font: \"STIX-Web\"}});}</script>                <script type=\"text/javascript\">window.PlotlyConfig = {MathJaxConfig: 'local'};</script>\n",
              "        <script src=\"https://cdn.plot.ly/plotly-2.18.2.min.js\"></script>                <div id=\"797588cd-96f8-4c9b-9128-b7d59b404473\" class=\"plotly-graph-div\" style=\"height:525px; width:100%;\"></div>            <script type=\"text/javascript\">                                    window.PLOTLYENV=window.PLOTLYENV || {};                                    if (document.getElementById(\"797588cd-96f8-4c9b-9128-b7d59b404473\")) {                    Plotly.newPlot(                        \"797588cd-96f8-4c9b-9128-b7d59b404473\",                        [{\"hovertemplate\":\"<b>%{hovertext}</b><br><br>gravity=%{x}<br>escape=%{y}<extra></extra>\",\"hovertext\":[\"Moon\",\"Phobos\",\"Deimos\",\"Io\",\"Europa\",\"Ganymede\",\"Callisto\",\"Amalthea\",\"Himalia\",\"Elara\",\"Pasiphae\",\"Sinope\",\"Lysithea\",\"Carme\",\"Ananke\",\"Leda\",\"Thebe\",\"Adrastea\",\"Metis\",\"Callirrhoe\",\"Themisto\",\"Megaclite\",\"Taygete\",\"Chaldene\",\"Harpalyke\",\"Kalyke\",\"Iocaste\",\"Erinome\",\"Isonoe\",\"Praxidike\",\"Autonoe\",\"Thyone\",\"Hermippe\",\"Aitne\",\"Eurydome\",\"Euanthe\",\"Euporie\",\"Orthosie\",\"Sponde\",\"Kale\",\"Pasithee\",\"Hegemone\",\"Mneme\",\"Aoede\",\"Thelxinoe\",\"Arche\",\"Kallichore\",\"Helike\",\"Carpo\",\"Eukelade\",\"Cyllene\",\"Kore\",\"Herse\",\"S/2003 J 2\",\"Eupheme\",\"S/2003 J 4\",\"Eirene\",\"S/2003 J 9\",\"S/2003 J 10\",\"S/2003 J 12\",\"Philophrosyne\",\"S/2003 J 16\",\"S/2003 J 18\",\"S/2003 J 19\",\"S/2003 J 23\",\"Mimas\",\"Enceladus\",\"Tethys\",\"Dione\",\"Rhea\",\"Titan\",\"Hyperion\",\"Iapetus\",\"Phoebe\",\"Janus\",\"Epimetheus\",\"Helene\",\"Telesto\",\"Calypso\",\"Atlas\",\"Prometheus\",\"Pandora\",\"Pan\",\"Ymir\",\"Paaliaq\",\"Tarvos\",\"Ijiraq\",\"Suttungr\",\"Kiviuq\",\"Mundilfari\",\"Albiorix\",\"Skathi\",\"Erriapus\",\"Siarnaq\",\"Thrymr\",\"Narvi\",\"Methone\",\"Pallene\",\"Polydeuces\",\"Daphnis\",\"Aegir\",\"Bebhionn\",\"Bergelmir\",\"Bestla\",\"Farbauti\",\"Fenrir\",\"Fornjot\",\"Hati\",\"Hyrrokkin\",\"Kari\",\"Loge\",\"Skoll\",\"Surtur\",\"Anthe\",\"Jarnsaxa\",\"Greip\",\"Tarqeq\",\"Aegaeon\",\"S/2004 S 7\",\"S/2004 S 12\",\"S/2004 S 13\",\"S/2004 S 17\",\"S/2006 S 1\",\"S/2006 S 3\",\"S/2007 S 2\",\"S/2007 S 3\",\"S/2009 S 1\",\"Ariel\",\"Umbriel\",\"Titania\",\"Oberon\",\"Miranda\",\"Cordelia\",\"Ophelia\",\"Bianca\",\"Cressida\",\"Desdemona\",\"Juliet\",\"Portia\",\"Rosalind\",\"Belinda\",\"Puck\",\"Caliban\",\"Sycorax\",\"Prospero\",\"Setebos\",\"Stephano\",\"Trinculo\",\"Francisco\",\"Margaret\",\"Ferdinand\",\"Perdita\",\"Mab\",\"Cupid\",\"Triton\",\"Nereid\",\"Naiad\",\"Thalassa\",\"Despina\",\"Galatea\",\"Larissa\",\"Proteus\",\"Halimede\",\"Psamathe\",\"Sao\",\"Laomedeia\",\"Neso\",\"Charon\",\"Nix\",\"Hydra\",\"Namaka\",\"Hi\\u02bbiaka\",\"Dysnomia\",\"Dia\",\"S/2004 S 3\",\"S/2004 S 4\",\"S/2004 S 6\",\"S/2010 J 1\",\"S/2010 J 2\",\"1 Ceres\",\"6 Hebe\",\"47171 Lempo\",\"The Little Prince\",\"762 Pulcova\",\"4179 Toutatis\",\"50000 Quaoar\",\"2867 \\u0160teins\",\"136199 Eris\",\"5 Astraea\",\"5145 Pholus\",\"4769 Castalia\",\"Remus\",\"624 Hektor\",\"216 Kleopatra\",\"3753 Cruithne\",\"3 Juno\",\"10 Hygiea\",\"21 Lutetia\",\"253 Mathilde\",\"Uranus\",\"7 Iris\",\"433 Eros\",\"Vanth\",\"90377 Sedna\",\"10199 Chariklo\",\"87 Sylvia\",\"(243) Ida I Dactyl\",\"90482 Orcus\",\"Pluto\",\"5335 Damocles\",\"Romulus\",\"Alexhelios\",\"Cleoselene\",\"8 Flora\",\"2060 Chiron\",\"5261 Eureka\",\"588 Achilles\",\"Weywot\",\"28978 Ixion\",\"Neptune\",\"Shoemaker-Levy 9\",\"9 Metis\",\"136108 Haumea\",\"7066 Nessus\",\"25143 Itokawa\",\"10370 Hylonome\",\"45 Eugenia\",\"(308933) 2006 SQ372\",\"2 Pallas\",\"8405 Asbolus\",\"20000 Varuna\",\"4 Vesta\",\"243 Ida\",\"Comet Hyakutake\",\"951 Gaspra\",\"15760 Albion\",\"136472 Makemake\",\"Halley's Comet\",\"Jupiter\",\"Mars\",\"Mercury\",\"Saturn\",\"Sun\",\"Earth\",\"Venus\",\"Kerberos\",\"S/2011 J 1\",\"S/2011 J 2\",\"Styx\",\"Hippocamp\",\"S/2015 (136472) 1\",\"S/2017 J 1\",\"S/2016 J 1\",\"Valetudo\",\"S/2017 J 2\",\"S/2017 J 3\",\"Pandia\",\"S/2017 J 5\",\"S/2017 J 6\",\"S/2017 J 7\",\"S/2017 J 8\",\"S/2017 J 9\",\"Ersa\",\"Arrokoth\",\"101955 Bennu\",\"S/2004 S 22\",\"S/2004 S 21\",\"S/2004 S 20\",\"S/2004 S 23\",\"S/2004 S 24\",\"S/2004 S 25\",\"S/2004 S 26\",\"S/2004 S 27\",\"S/2004 S 28\",\"S/2004 S 29\",\"S/2004 S 30\",\"S/2004 S 31\",\"S/2004 S 32\",\"S/2004 S 33\",\"S/2004 S 34\",\"S/2004 S 35\",\"S/2004 S 36\",\"S/2004 S 37\",\"S/2004 S 38\",\"S/2004 S 39\",\"C/2020 F3 (NEOWISE)\",\"S/2003 J 24\"],\"legendgroup\":\"\",\"marker\":{\"color\":\"#F8766D\",\"symbol\":\"circle\"},\"mode\":\"markers\",\"name\":\"\",\"orientation\":\"v\",\"showlegend\":false,\"x\":[1.6200000047683716,0.00570000009611249,0.003000000026077032,1.7899999618530273,1.309999942779541,1.4279999732971191,1.2350000143051147,0.019999999552965164,0.06199999898672104,0.03099999949336052,0.02199999988079071,0.014000000432133675,0.013000000268220901,0.017000000923871994,0.009999999776482582,0.007300000172108412,0.019999999552965164,0.0020000000949949026,0.004999999888241291,0.003100000089034438,0.002899999963119626,0.0,0.0,0.0,0.0,0.0,0.0,0.0,0.0,0.0,0.001500000013038516,0.001500000013038516,0.001500000013038516,0.0012000000569969416,0.0012000000569969416,0.0012000000569969416,0.0,0.0008099999977275729,0.0008099999977275729,0.0008099999977275729,0.0008099999977275729,0.0,0.0,0.0,0.0,0.0012000000569969416,0.0,0.0,0.0,0.0,0.0,0.0,0.0,0.0,0.0,0.0,0.0,0.0,0.0,0.0,0.0,0.0,0.0,0.0,0.0008099999977275729,0.0,0.0,0.0,0.0,0.0,0.0,0.0,0.0,0.0,0.0,0.0,0.0,0.0,0.0,0.0,0.0,0.0,0.0,0.0,0.0,0.0,0.0,0.0,0.0,0.0,0.0,0.0,0.0,0.0,0.0,0.0,0.0,0.0,0.0,0.0,0.0,0.0,0.0,0.0,0.0,0.0,0.0,0.0,0.0,0.0,0.0,0.0,0.0,0.0,0.0,0.0,0.0,0.0,0.0,0.0,0.0,0.0,0.0,0.0,0.0,0.0,0.0,0.0,0.0,0.0,0.0,0.0,0.0,0.0,0.0,0.0,0.0,0.0,0.0,0.0,0.0,0.0,0.0,0.0,0.0,0.0,0.0,0.0,0.0,0.0,0.0,0.0,0.0,0.0,0.7799999713897705,0.07100000232458115,0.009999999776482582,0.013000000268220901,0.023000000044703484,0.029999999329447746,0.03400000184774399,0.07500000298023224,0.009999999776482582,0.0,0.009999999776482582,0.009999999776482582,0.0,0.0,0.0,0.0,0.0,0.0,0.0,0.0,0.0,0.0,0.0,0.0,0.0,0.2800000011920929,0.0,0.0,0.0,0.0,0.0,0.0,0.0,0.8199999928474426,0.0,0.0,0.0,0.0,0.0,0.0,0.0,0.0,0.0,0.0,0.0,8.869999885559082,0.0,0.0,0.0,0.0,0.0,0.0,0.0,0.0,0.6200000047683716,0.0,0.0,0.0,0.0,0.0,0.0,0.0,0.0,0.0,0.0,11.149999618530273,0.0,0.0,0.4009999930858612,0.0,0.0,0.0,0.0,0.0,0.0,0.0,0.0,0.0,0.0,0.0,0.0,0.0,0.5,0.0,24.790000915527344,3.7100000381469727,3.700000047683716,10.4399995803833,0.0,9.800000190734863,8.869999885559082,0.0,0.0,0.0,0.0,0.0,0.0,0.0,0.0,0.0,0.0,0.0,0.0,0.0,0.0,0.0,0.0,0.0,0.0,0.0,0.0,0.0,0.0,0.0,0.0,0.0,0.0,0.0,0.0,0.0,0.0,0.0,0.0,0.0,0.0,0.0,0.0,0.0,0.0,0.0,0.0,0.0,0.0],\"xaxis\":\"x\",\"y\":[2380.0,11.390000343322754,5.556000232696533,0.0,0.0,0.0,0.0,0.0,0.0,0.0,0.0,0.0,0.0,0.0,0.0,0.0,0.0,0.0,0.0,0.0,0.0,0.0,0.0,0.0,0.0,0.0,0.0,0.0,0.0,0.0,0.0,0.0,0.0,0.0,0.0,0.0,0.0,0.0,0.0,0.0,0.0,0.0,0.0,0.0,0.0,0.0,0.0,0.0,0.0,0.0,0.0,0.0,0.0,0.0,0.0,0.0,0.0,0.0,0.0,0.0,0.0,0.0,0.0,0.0,0.0,0.0,0.0,0.0,0.0,0.0,0.0,0.0,0.0,0.0,0.0,0.0,0.0,0.0,0.0,0.0,0.0,0.0,0.0,0.0,0.0,0.0,0.0,0.0,0.0,0.0,0.0,0.0,0.0,0.0,0.0,0.0,0.0,0.0,0.0,0.0,0.0,0.0,0.0,0.0,0.0,0.0,0.0,0.0,0.0,0.0,0.0,0.0,0.0,0.0,0.0,0.0,0.0,0.0,0.0,0.0,0.0,0.0,0.0,0.0,0.0,0.0,0.0,0.0,0.0,0.0,0.0,0.0,0.0,0.0,0.0,0.0,0.0,0.0,0.0,0.0,0.0,0.0,0.0,0.0,0.0,0.0,0.0,0.0,0.0,0.0,0.0,0.0,0.0,0.0,0.0,0.0,0.0,0.0,0.0,0.0,0.0,0.0,0.0,0.0,0.0,0.0,0.0,0.0,0.0,0.0,0.0,0.0,0.0,0.0,0.0,0.0,0.0,0.0,0.0,510.0,0.0,0.0,0.0,0.0,0.0,0.0,0.0,1380.0,0.0,0.0,0.0,0.0,0.0,0.0,0.0,0.0,0.0,0.0,0.0,21380.0,0.0,0.0,0.0,0.0,0.0,0.0,0.0,0.0,1210.0,0.0,0.0,0.0,0.0,0.0,0.0,0.0,0.0,0.0,0.0,23560.0,0.0,0.0,809.0,0.0,0.0,0.0,0.0,0.0,0.0,0.0,0.0,0.0,0.0,0.0,0.0,0.0,800.0,0.0,60200.0,5030.0,4250.0,36090.0,0.0,11190.0,10360.0,0.0,0.0,0.0,0.0,0.0,0.0,0.0,0.0,0.0,0.0,0.0,0.0,0.0,0.0,0.0,0.0,0.0,0.0,0.0,0.0,0.0,0.0,0.0,0.0,0.0,0.0,0.0,0.0,0.0,0.0,0.0,0.0,0.0,0.0,0.0,0.0,0.0,0.0,0.0,0.0,0.0,0.0],\"yaxis\":\"y\",\"type\":\"scatter\"}],                        {\"template\":{\"data\":{\"barpolar\":[{\"marker\":{\"line\":{\"color\":\"rgb(237,237,237)\",\"width\":0.5},\"pattern\":{\"fillmode\":\"overlay\",\"size\":10,\"solidity\":0.2}},\"type\":\"barpolar\"}],\"bar\":[{\"error_x\":{\"color\":\"rgb(51,51,51)\"},\"error_y\":{\"color\":\"rgb(51,51,51)\"},\"marker\":{\"line\":{\"color\":\"rgb(237,237,237)\",\"width\":0.5},\"pattern\":{\"fillmode\":\"overlay\",\"size\":10,\"solidity\":0.2}},\"type\":\"bar\"}],\"carpet\":[{\"aaxis\":{\"endlinecolor\":\"rgb(51,51,51)\",\"gridcolor\":\"white\",\"linecolor\":\"white\",\"minorgridcolor\":\"white\",\"startlinecolor\":\"rgb(51,51,51)\"},\"baxis\":{\"endlinecolor\":\"rgb(51,51,51)\",\"gridcolor\":\"white\",\"linecolor\":\"white\",\"minorgridcolor\":\"white\",\"startlinecolor\":\"rgb(51,51,51)\"},\"type\":\"carpet\"}],\"choropleth\":[{\"colorbar\":{\"outlinewidth\":0,\"tickcolor\":\"rgb(237,237,237)\",\"ticklen\":6,\"ticks\":\"inside\"},\"type\":\"choropleth\"}],\"contourcarpet\":[{\"colorbar\":{\"outlinewidth\":0,\"tickcolor\":\"rgb(237,237,237)\",\"ticklen\":6,\"ticks\":\"inside\"},\"type\":\"contourcarpet\"}],\"contour\":[{\"colorbar\":{\"outlinewidth\":0,\"tickcolor\":\"rgb(237,237,237)\",\"ticklen\":6,\"ticks\":\"inside\"},\"colorscale\":[[0,\"rgb(20,44,66)\"],[1,\"rgb(90,179,244)\"]],\"type\":\"contour\"}],\"heatmapgl\":[{\"colorbar\":{\"outlinewidth\":0,\"tickcolor\":\"rgb(237,237,237)\",\"ticklen\":6,\"ticks\":\"inside\"},\"colorscale\":[[0,\"rgb(20,44,66)\"],[1,\"rgb(90,179,244)\"]],\"type\":\"heatmapgl\"}],\"heatmap\":[{\"colorbar\":{\"outlinewidth\":0,\"tickcolor\":\"rgb(237,237,237)\",\"ticklen\":6,\"ticks\":\"inside\"},\"colorscale\":[[0,\"rgb(20,44,66)\"],[1,\"rgb(90,179,244)\"]],\"type\":\"heatmap\"}],\"histogram2dcontour\":[{\"colorbar\":{\"outlinewidth\":0,\"tickcolor\":\"rgb(237,237,237)\",\"ticklen\":6,\"ticks\":\"inside\"},\"colorscale\":[[0,\"rgb(20,44,66)\"],[1,\"rgb(90,179,244)\"]],\"type\":\"histogram2dcontour\"}],\"histogram2d\":[{\"colorbar\":{\"outlinewidth\":0,\"tickcolor\":\"rgb(237,237,237)\",\"ticklen\":6,\"ticks\":\"inside\"},\"colorscale\":[[0,\"rgb(20,44,66)\"],[1,\"rgb(90,179,244)\"]],\"type\":\"histogram2d\"}],\"histogram\":[{\"marker\":{\"pattern\":{\"fillmode\":\"overlay\",\"size\":10,\"solidity\":0.2}},\"type\":\"histogram\"}],\"mesh3d\":[{\"colorbar\":{\"outlinewidth\":0,\"tickcolor\":\"rgb(237,237,237)\",\"ticklen\":6,\"ticks\":\"inside\"},\"type\":\"mesh3d\"}],\"parcoords\":[{\"line\":{\"colorbar\":{\"outlinewidth\":0,\"tickcolor\":\"rgb(237,237,237)\",\"ticklen\":6,\"ticks\":\"inside\"}},\"type\":\"parcoords\"}],\"pie\":[{\"automargin\":true,\"type\":\"pie\"}],\"scatter3d\":[{\"line\":{\"colorbar\":{\"outlinewidth\":0,\"tickcolor\":\"rgb(237,237,237)\",\"ticklen\":6,\"ticks\":\"inside\"}},\"marker\":{\"colorbar\":{\"outlinewidth\":0,\"tickcolor\":\"rgb(237,237,237)\",\"ticklen\":6,\"ticks\":\"inside\"}},\"type\":\"scatter3d\"}],\"scattercarpet\":[{\"marker\":{\"colorbar\":{\"outlinewidth\":0,\"tickcolor\":\"rgb(237,237,237)\",\"ticklen\":6,\"ticks\":\"inside\"}},\"type\":\"scattercarpet\"}],\"scattergeo\":[{\"marker\":{\"colorbar\":{\"outlinewidth\":0,\"tickcolor\":\"rgb(237,237,237)\",\"ticklen\":6,\"ticks\":\"inside\"}},\"type\":\"scattergeo\"}],\"scattergl\":[{\"marker\":{\"colorbar\":{\"outlinewidth\":0,\"tickcolor\":\"rgb(237,237,237)\",\"ticklen\":6,\"ticks\":\"inside\"}},\"type\":\"scattergl\"}],\"scattermapbox\":[{\"marker\":{\"colorbar\":{\"outlinewidth\":0,\"tickcolor\":\"rgb(237,237,237)\",\"ticklen\":6,\"ticks\":\"inside\"}},\"type\":\"scattermapbox\"}],\"scatterpolargl\":[{\"marker\":{\"colorbar\":{\"outlinewidth\":0,\"tickcolor\":\"rgb(237,237,237)\",\"ticklen\":6,\"ticks\":\"inside\"}},\"type\":\"scatterpolargl\"}],\"scatterpolar\":[{\"marker\":{\"colorbar\":{\"outlinewidth\":0,\"tickcolor\":\"rgb(237,237,237)\",\"ticklen\":6,\"ticks\":\"inside\"}},\"type\":\"scatterpolar\"}],\"scatter\":[{\"fillpattern\":{\"fillmode\":\"overlay\",\"size\":10,\"solidity\":0.2},\"type\":\"scatter\"}],\"scatterternary\":[{\"marker\":{\"colorbar\":{\"outlinewidth\":0,\"tickcolor\":\"rgb(237,237,237)\",\"ticklen\":6,\"ticks\":\"inside\"}},\"type\":\"scatterternary\"}],\"surface\":[{\"colorbar\":{\"outlinewidth\":0,\"tickcolor\":\"rgb(237,237,237)\",\"ticklen\":6,\"ticks\":\"inside\"},\"colorscale\":[[0,\"rgb(20,44,66)\"],[1,\"rgb(90,179,244)\"]],\"type\":\"surface\"}],\"table\":[{\"cells\":{\"fill\":{\"color\":\"rgb(237,237,237)\"},\"line\":{\"color\":\"white\"}},\"header\":{\"fill\":{\"color\":\"rgb(217,217,217)\"},\"line\":{\"color\":\"white\"}},\"type\":\"table\"}]},\"layout\":{\"annotationdefaults\":{\"arrowhead\":0,\"arrowwidth\":1},\"autotypenumbers\":\"strict\",\"coloraxis\":{\"colorbar\":{\"outlinewidth\":0,\"tickcolor\":\"rgb(237,237,237)\",\"ticklen\":6,\"ticks\":\"inside\"}},\"colorscale\":{\"sequential\":[[0,\"rgb(20,44,66)\"],[1,\"rgb(90,179,244)\"]],\"sequentialminus\":[[0,\"rgb(20,44,66)\"],[1,\"rgb(90,179,244)\"]]},\"colorway\":[\"#F8766D\",\"#A3A500\",\"#00BF7D\",\"#00B0F6\",\"#E76BF3\"],\"font\":{\"color\":\"rgb(51,51,51)\"},\"geo\":{\"bgcolor\":\"white\",\"lakecolor\":\"white\",\"landcolor\":\"rgb(237,237,237)\",\"showlakes\":true,\"showland\":true,\"subunitcolor\":\"white\"},\"hoverlabel\":{\"align\":\"left\"},\"hovermode\":\"closest\",\"paper_bgcolor\":\"white\",\"plot_bgcolor\":\"rgb(237,237,237)\",\"polar\":{\"angularaxis\":{\"gridcolor\":\"white\",\"linecolor\":\"white\",\"showgrid\":true,\"tickcolor\":\"rgb(51,51,51)\",\"ticks\":\"outside\"},\"bgcolor\":\"rgb(237,237,237)\",\"radialaxis\":{\"gridcolor\":\"white\",\"linecolor\":\"white\",\"showgrid\":true,\"tickcolor\":\"rgb(51,51,51)\",\"ticks\":\"outside\"}},\"scene\":{\"xaxis\":{\"backgroundcolor\":\"rgb(237,237,237)\",\"gridcolor\":\"white\",\"gridwidth\":2,\"linecolor\":\"white\",\"showbackground\":true,\"showgrid\":true,\"tickcolor\":\"rgb(51,51,51)\",\"ticks\":\"outside\",\"zerolinecolor\":\"white\"},\"yaxis\":{\"backgroundcolor\":\"rgb(237,237,237)\",\"gridcolor\":\"white\",\"gridwidth\":2,\"linecolor\":\"white\",\"showbackground\":true,\"showgrid\":true,\"tickcolor\":\"rgb(51,51,51)\",\"ticks\":\"outside\",\"zerolinecolor\":\"white\"},\"zaxis\":{\"backgroundcolor\":\"rgb(237,237,237)\",\"gridcolor\":\"white\",\"gridwidth\":2,\"linecolor\":\"white\",\"showbackground\":true,\"showgrid\":true,\"tickcolor\":\"rgb(51,51,51)\",\"ticks\":\"outside\",\"zerolinecolor\":\"white\"}},\"shapedefaults\":{\"fillcolor\":\"black\",\"line\":{\"width\":0},\"opacity\":0.3},\"ternary\":{\"aaxis\":{\"gridcolor\":\"white\",\"linecolor\":\"white\",\"showgrid\":true,\"tickcolor\":\"rgb(51,51,51)\",\"ticks\":\"outside\"},\"baxis\":{\"gridcolor\":\"white\",\"linecolor\":\"white\",\"showgrid\":true,\"tickcolor\":\"rgb(51,51,51)\",\"ticks\":\"outside\"},\"bgcolor\":\"rgb(237,237,237)\",\"caxis\":{\"gridcolor\":\"white\",\"linecolor\":\"white\",\"showgrid\":true,\"tickcolor\":\"rgb(51,51,51)\",\"ticks\":\"outside\"}},\"xaxis\":{\"automargin\":true,\"gridcolor\":\"white\",\"linecolor\":\"white\",\"showgrid\":true,\"tickcolor\":\"rgb(51,51,51)\",\"ticks\":\"outside\",\"title\":{\"standoff\":15},\"zerolinecolor\":\"white\"},\"yaxis\":{\"automargin\":true,\"gridcolor\":\"white\",\"linecolor\":\"white\",\"showgrid\":true,\"tickcolor\":\"rgb(51,51,51)\",\"ticks\":\"outside\",\"title\":{\"standoff\":15},\"zerolinecolor\":\"white\"}}},\"xaxis\":{\"anchor\":\"y\",\"domain\":[0.0,1.0],\"title\":{\"text\":\"gravity\"}},\"yaxis\":{\"anchor\":\"x\",\"domain\":[0.0,1.0],\"title\":{\"text\":\"escape\"}},\"legend\":{\"tracegroupgap\":0},\"margin\":{\"t\":60}},                        {\"responsive\": true}                    ).then(function(){\n",
              "                            \n",
              "var gd = document.getElementById('797588cd-96f8-4c9b-9128-b7d59b404473');\n",
              "var x = new MutationObserver(function (mutations, observer) {{\n",
              "        var display = window.getComputedStyle(gd).display;\n",
              "        if (!display || display === 'none') {{\n",
              "            console.log([gd, 'removed!']);\n",
              "            Plotly.purge(gd);\n",
              "            observer.disconnect();\n",
              "        }}\n",
              "}});\n",
              "\n",
              "// Listen for the removal of the full notebook cells\n",
              "var notebookContainer = gd.closest('#notebook-container');\n",
              "if (notebookContainer) {{\n",
              "    x.observe(notebookContainer, {childList: true});\n",
              "}}\n",
              "\n",
              "// Listen for the clearing of the current output cell\n",
              "var outputEl = gd.closest('.output');\n",
              "if (outputEl) {{\n",
              "    x.observe(outputEl, {childList: true});\n",
              "}}\n",
              "\n",
              "                        })                };                            </script>        </div>\n",
              "</body>\n",
              "</html>"
            ]
          },
          "metadata": {}
        },
        {
          "output_type": "display_data",
          "data": {
            "text/html": [
              "<html>\n",
              "<head><meta charset=\"utf-8\" /></head>\n",
              "<body>\n",
              "    <div>            <script src=\"https://cdnjs.cloudflare.com/ajax/libs/mathjax/2.7.5/MathJax.js?config=TeX-AMS-MML_SVG\"></script><script type=\"text/javascript\">if (window.MathJax && window.MathJax.Hub && window.MathJax.Hub.Config) {window.MathJax.Hub.Config({SVG: {font: \"STIX-Web\"}});}</script>                <script type=\"text/javascript\">window.PlotlyConfig = {MathJaxConfig: 'local'};</script>\n",
              "        <script src=\"https://cdn.plot.ly/plotly-2.18.2.min.js\"></script>                <div id=\"0dbffc63-65f6-42a8-aff9-d4a325914f13\" class=\"plotly-graph-div\" style=\"height:525px; width:100%;\"></div>            <script type=\"text/javascript\">                                    window.PLOTLYENV=window.PLOTLYENV || {};                                    if (document.getElementById(\"0dbffc63-65f6-42a8-aff9-d4a325914f13\")) {                    Plotly.newPlot(                        \"0dbffc63-65f6-42a8-aff9-d4a325914f13\",                        [{\"hovertemplate\":\"<b>%{hovertext}</b><br><br>gravity=%{x}<br>escape=%{y}<extra></extra>\",\"hovertext\":[\"Moon\",\"Phobos\",\"Deimos\",\"Io\",\"Europa\",\"Ganymede\",\"Callisto\",\"Amalthea\",\"Himalia\",\"Elara\",\"Pasiphae\",\"Sinope\",\"Lysithea\",\"Carme\",\"Ananke\",\"Leda\",\"Thebe\",\"Adrastea\",\"Metis\",\"Callirrhoe\",\"Themisto\",\"Megaclite\",\"Taygete\",\"Chaldene\",\"Harpalyke\",\"Kalyke\",\"Iocaste\",\"Erinome\",\"Isonoe\",\"Praxidike\",\"Autonoe\",\"Thyone\",\"Hermippe\",\"Aitne\",\"Eurydome\",\"Euanthe\",\"Euporie\",\"Orthosie\",\"Sponde\",\"Kale\",\"Pasithee\",\"Hegemone\",\"Mneme\",\"Aoede\",\"Thelxinoe\",\"Arche\",\"Kallichore\",\"Helike\",\"Carpo\",\"Eukelade\",\"Cyllene\",\"Kore\",\"Herse\",\"S/2003 J 2\",\"Eupheme\",\"S/2003 J 4\",\"Eirene\",\"S/2003 J 9\",\"S/2003 J 10\",\"S/2003 J 12\",\"Philophrosyne\",\"S/2003 J 16\",\"S/2003 J 18\",\"S/2003 J 19\",\"S/2003 J 23\",\"Mimas\",\"Enceladus\",\"Tethys\",\"Dione\",\"Rhea\",\"Titan\",\"Hyperion\",\"Iapetus\",\"Phoebe\",\"Janus\",\"Epimetheus\",\"Helene\",\"Telesto\",\"Calypso\",\"Atlas\",\"Prometheus\",\"Pandora\",\"Pan\",\"Ymir\",\"Paaliaq\",\"Tarvos\",\"Ijiraq\",\"Suttungr\",\"Kiviuq\",\"Mundilfari\",\"Albiorix\",\"Skathi\",\"Erriapus\",\"Siarnaq\",\"Thrymr\",\"Narvi\",\"Methone\",\"Pallene\",\"Polydeuces\",\"Daphnis\",\"Aegir\",\"Bebhionn\",\"Bergelmir\",\"Bestla\",\"Farbauti\",\"Fenrir\",\"Fornjot\",\"Hati\",\"Hyrrokkin\",\"Kari\",\"Loge\",\"Skoll\",\"Surtur\",\"Anthe\",\"Jarnsaxa\",\"Greip\",\"Tarqeq\",\"Aegaeon\",\"S/2004 S 7\",\"S/2004 S 12\",\"S/2004 S 13\",\"S/2004 S 17\",\"S/2006 S 1\",\"S/2006 S 3\",\"S/2007 S 2\",\"S/2007 S 3\",\"S/2009 S 1\",\"Ariel\",\"Umbriel\",\"Titania\",\"Oberon\",\"Miranda\",\"Cordelia\",\"Ophelia\",\"Bianca\",\"Cressida\",\"Desdemona\",\"Juliet\",\"Portia\",\"Rosalind\",\"Belinda\",\"Puck\",\"Caliban\",\"Sycorax\",\"Prospero\",\"Setebos\",\"Stephano\",\"Trinculo\",\"Francisco\",\"Margaret\",\"Ferdinand\",\"Perdita\",\"Mab\",\"Cupid\",\"Triton\",\"Nereid\",\"Naiad\",\"Thalassa\",\"Despina\",\"Galatea\",\"Larissa\",\"Proteus\",\"Halimede\",\"Psamathe\",\"Sao\",\"Laomedeia\",\"Neso\",\"Charon\",\"Nix\",\"Hydra\",\"Namaka\",\"Hi\\u02bbiaka\",\"Dysnomia\",\"Dia\",\"S/2004 S 3\",\"S/2004 S 4\",\"S/2004 S 6\",\"S/2010 J 1\",\"S/2010 J 2\",\"1 Ceres\",\"6 Hebe\",\"47171 Lempo\",\"The Little Prince\",\"762 Pulcova\",\"4179 Toutatis\",\"50000 Quaoar\",\"2867 \\u0160teins\",\"136199 Eris\",\"5 Astraea\",\"5145 Pholus\",\"4769 Castalia\",\"Remus\",\"624 Hektor\",\"216 Kleopatra\",\"3753 Cruithne\",\"3 Juno\",\"10 Hygiea\",\"21 Lutetia\",\"253 Mathilde\",\"Uranus\",\"7 Iris\",\"433 Eros\",\"Vanth\",\"90377 Sedna\",\"10199 Chariklo\",\"87 Sylvia\",\"(243) Ida I Dactyl\",\"90482 Orcus\",\"Pluto\",\"5335 Damocles\",\"Romulus\",\"Alexhelios\",\"Cleoselene\",\"8 Flora\",\"2060 Chiron\",\"5261 Eureka\",\"588 Achilles\",\"Weywot\",\"28978 Ixion\",\"Neptune\",\"Shoemaker-Levy 9\",\"9 Metis\",\"136108 Haumea\",\"7066 Nessus\",\"25143 Itokawa\",\"10370 Hylonome\",\"45 Eugenia\",\"(308933) 2006 SQ372\",\"2 Pallas\",\"8405 Asbolus\",\"20000 Varuna\",\"4 Vesta\",\"243 Ida\",\"Comet Hyakutake\",\"951 Gaspra\",\"15760 Albion\",\"136472 Makemake\",\"Halley's Comet\",\"Mars\",\"Mercury\",\"Saturn\",\"Sun\",\"Earth\",\"Venus\",\"Kerberos\",\"S/2011 J 1\",\"S/2011 J 2\",\"Styx\",\"Hippocamp\",\"S/2015 (136472) 1\",\"S/2017 J 1\",\"S/2016 J 1\",\"Valetudo\",\"S/2017 J 2\",\"S/2017 J 3\",\"Pandia\",\"S/2017 J 5\",\"S/2017 J 6\",\"S/2017 J 7\",\"S/2017 J 8\",\"S/2017 J 9\",\"Ersa\",\"Arrokoth\",\"101955 Bennu\",\"S/2004 S 22\",\"S/2004 S 21\",\"S/2004 S 20\",\"S/2004 S 23\",\"S/2004 S 24\",\"S/2004 S 25\",\"S/2004 S 26\",\"S/2004 S 27\",\"S/2004 S 28\",\"S/2004 S 29\",\"S/2004 S 30\",\"S/2004 S 31\",\"S/2004 S 32\",\"S/2004 S 33\",\"S/2004 S 34\",\"S/2004 S 35\",\"S/2004 S 36\",\"S/2004 S 37\",\"S/2004 S 38\",\"S/2004 S 39\",\"C/2020 F3 (NEOWISE)\",\"S/2003 J 24\"],\"legendgroup\":\"\",\"marker\":{\"color\":\"#F8766D\",\"symbol\":\"circle\"},\"mode\":\"markers\",\"name\":\"\",\"orientation\":\"v\",\"showlegend\":false,\"x\":[1.6200000047683716,0.00570000009611249,0.003000000026077032,1.7899999618530273,1.309999942779541,1.4279999732971191,1.2350000143051147,0.019999999552965164,0.06199999898672104,0.03099999949336052,0.02199999988079071,0.014000000432133675,0.013000000268220901,0.017000000923871994,0.009999999776482582,0.007300000172108412,0.019999999552965164,0.0020000000949949026,0.004999999888241291,0.003100000089034438,0.002899999963119626,0.0,0.0,0.0,0.0,0.0,0.0,0.0,0.0,0.0,0.001500000013038516,0.001500000013038516,0.001500000013038516,0.0012000000569969416,0.0012000000569969416,0.0012000000569969416,0.0,0.0008099999977275729,0.0008099999977275729,0.0008099999977275729,0.0008099999977275729,0.0,0.0,0.0,0.0,0.0012000000569969416,0.0,0.0,0.0,0.0,0.0,0.0,0.0,0.0,0.0,0.0,0.0,0.0,0.0,0.0,0.0,0.0,0.0,0.0,0.0008099999977275729,0.0,0.0,0.0,0.0,0.0,0.0,0.0,0.0,0.0,0.0,0.0,0.0,0.0,0.0,0.0,0.0,0.0,0.0,0.0,0.0,0.0,0.0,0.0,0.0,0.0,0.0,0.0,0.0,0.0,0.0,0.0,0.0,0.0,0.0,0.0,0.0,0.0,0.0,0.0,0.0,0.0,0.0,0.0,0.0,0.0,0.0,0.0,0.0,0.0,0.0,0.0,0.0,0.0,0.0,0.0,0.0,0.0,0.0,0.0,0.0,0.0,0.0,0.0,0.0,0.0,0.0,0.0,0.0,0.0,0.0,0.0,0.0,0.0,0.0,0.0,0.0,0.0,0.0,0.0,0.0,0.0,0.0,0.0,0.0,0.0,0.0,0.0,0.0,0.0,0.7799999713897705,0.07100000232458115,0.009999999776482582,0.013000000268220901,0.023000000044703484,0.029999999329447746,0.03400000184774399,0.07500000298023224,0.009999999776482582,0.0,0.009999999776482582,0.009999999776482582,0.0,0.0,0.0,0.0,0.0,0.0,0.0,0.0,0.0,0.0,0.0,0.0,0.0,0.2800000011920929,0.0,0.0,0.0,0.0,0.0,0.0,0.0,0.8199999928474426,0.0,0.0,0.0,0.0,0.0,0.0,0.0,0.0,0.0,0.0,0.0,8.869999885559082,0.0,0.0,0.0,0.0,0.0,0.0,0.0,0.0,0.6200000047683716,0.0,0.0,0.0,0.0,0.0,0.0,0.0,0.0,0.0,0.0,11.149999618530273,0.0,0.0,0.4009999930858612,0.0,0.0,0.0,0.0,0.0,0.0,0.0,0.0,0.0,0.0,0.0,0.0,0.0,0.5,0.0,3.7100000381469727,3.700000047683716,10.4399995803833,0.0,9.800000190734863,8.869999885559082,0.0,0.0,0.0,0.0,0.0,0.0,0.0,0.0,0.0,0.0,0.0,0.0,0.0,0.0,0.0,0.0,0.0,0.0,0.0,0.0,0.0,0.0,0.0,0.0,0.0,0.0,0.0,0.0,0.0,0.0,0.0,0.0,0.0,0.0,0.0,0.0,0.0,0.0,0.0,0.0,0.0,0.0],\"xaxis\":\"x\",\"y\":[2380.0,11.390000343322754,5.556000232696533,0.0,0.0,0.0,0.0,0.0,0.0,0.0,0.0,0.0,0.0,0.0,0.0,0.0,0.0,0.0,0.0,0.0,0.0,0.0,0.0,0.0,0.0,0.0,0.0,0.0,0.0,0.0,0.0,0.0,0.0,0.0,0.0,0.0,0.0,0.0,0.0,0.0,0.0,0.0,0.0,0.0,0.0,0.0,0.0,0.0,0.0,0.0,0.0,0.0,0.0,0.0,0.0,0.0,0.0,0.0,0.0,0.0,0.0,0.0,0.0,0.0,0.0,0.0,0.0,0.0,0.0,0.0,0.0,0.0,0.0,0.0,0.0,0.0,0.0,0.0,0.0,0.0,0.0,0.0,0.0,0.0,0.0,0.0,0.0,0.0,0.0,0.0,0.0,0.0,0.0,0.0,0.0,0.0,0.0,0.0,0.0,0.0,0.0,0.0,0.0,0.0,0.0,0.0,0.0,0.0,0.0,0.0,0.0,0.0,0.0,0.0,0.0,0.0,0.0,0.0,0.0,0.0,0.0,0.0,0.0,0.0,0.0,0.0,0.0,0.0,0.0,0.0,0.0,0.0,0.0,0.0,0.0,0.0,0.0,0.0,0.0,0.0,0.0,0.0,0.0,0.0,0.0,0.0,0.0,0.0,0.0,0.0,0.0,0.0,0.0,0.0,0.0,0.0,0.0,0.0,0.0,0.0,0.0,0.0,0.0,0.0,0.0,0.0,0.0,0.0,0.0,0.0,0.0,0.0,0.0,0.0,0.0,0.0,0.0,0.0,0.0,510.0,0.0,0.0,0.0,0.0,0.0,0.0,0.0,1380.0,0.0,0.0,0.0,0.0,0.0,0.0,0.0,0.0,0.0,0.0,0.0,21380.0,0.0,0.0,0.0,0.0,0.0,0.0,0.0,0.0,1210.0,0.0,0.0,0.0,0.0,0.0,0.0,0.0,0.0,0.0,0.0,23560.0,0.0,0.0,809.0,0.0,0.0,0.0,0.0,0.0,0.0,0.0,0.0,0.0,0.0,0.0,0.0,0.0,800.0,0.0,5030.0,4250.0,36090.0,0.0,11190.0,10360.0,0.0,0.0,0.0,0.0,0.0,0.0,0.0,0.0,0.0,0.0,0.0,0.0,0.0,0.0,0.0,0.0,0.0,0.0,0.0,0.0,0.0,0.0,0.0,0.0,0.0,0.0,0.0,0.0,0.0,0.0,0.0,0.0,0.0,0.0,0.0,0.0,0.0,0.0,0.0,0.0,0.0,0.0],\"yaxis\":\"y\",\"type\":\"scatter\"}],                        {\"template\":{\"data\":{\"barpolar\":[{\"marker\":{\"line\":{\"color\":\"rgb(237,237,237)\",\"width\":0.5},\"pattern\":{\"fillmode\":\"overlay\",\"size\":10,\"solidity\":0.2}},\"type\":\"barpolar\"}],\"bar\":[{\"error_x\":{\"color\":\"rgb(51,51,51)\"},\"error_y\":{\"color\":\"rgb(51,51,51)\"},\"marker\":{\"line\":{\"color\":\"rgb(237,237,237)\",\"width\":0.5},\"pattern\":{\"fillmode\":\"overlay\",\"size\":10,\"solidity\":0.2}},\"type\":\"bar\"}],\"carpet\":[{\"aaxis\":{\"endlinecolor\":\"rgb(51,51,51)\",\"gridcolor\":\"white\",\"linecolor\":\"white\",\"minorgridcolor\":\"white\",\"startlinecolor\":\"rgb(51,51,51)\"},\"baxis\":{\"endlinecolor\":\"rgb(51,51,51)\",\"gridcolor\":\"white\",\"linecolor\":\"white\",\"minorgridcolor\":\"white\",\"startlinecolor\":\"rgb(51,51,51)\"},\"type\":\"carpet\"}],\"choropleth\":[{\"colorbar\":{\"outlinewidth\":0,\"tickcolor\":\"rgb(237,237,237)\",\"ticklen\":6,\"ticks\":\"inside\"},\"type\":\"choropleth\"}],\"contourcarpet\":[{\"colorbar\":{\"outlinewidth\":0,\"tickcolor\":\"rgb(237,237,237)\",\"ticklen\":6,\"ticks\":\"inside\"},\"type\":\"contourcarpet\"}],\"contour\":[{\"colorbar\":{\"outlinewidth\":0,\"tickcolor\":\"rgb(237,237,237)\",\"ticklen\":6,\"ticks\":\"inside\"},\"colorscale\":[[0,\"rgb(20,44,66)\"],[1,\"rgb(90,179,244)\"]],\"type\":\"contour\"}],\"heatmapgl\":[{\"colorbar\":{\"outlinewidth\":0,\"tickcolor\":\"rgb(237,237,237)\",\"ticklen\":6,\"ticks\":\"inside\"},\"colorscale\":[[0,\"rgb(20,44,66)\"],[1,\"rgb(90,179,244)\"]],\"type\":\"heatmapgl\"}],\"heatmap\":[{\"colorbar\":{\"outlinewidth\":0,\"tickcolor\":\"rgb(237,237,237)\",\"ticklen\":6,\"ticks\":\"inside\"},\"colorscale\":[[0,\"rgb(20,44,66)\"],[1,\"rgb(90,179,244)\"]],\"type\":\"heatmap\"}],\"histogram2dcontour\":[{\"colorbar\":{\"outlinewidth\":0,\"tickcolor\":\"rgb(237,237,237)\",\"ticklen\":6,\"ticks\":\"inside\"},\"colorscale\":[[0,\"rgb(20,44,66)\"],[1,\"rgb(90,179,244)\"]],\"type\":\"histogram2dcontour\"}],\"histogram2d\":[{\"colorbar\":{\"outlinewidth\":0,\"tickcolor\":\"rgb(237,237,237)\",\"ticklen\":6,\"ticks\":\"inside\"},\"colorscale\":[[0,\"rgb(20,44,66)\"],[1,\"rgb(90,179,244)\"]],\"type\":\"histogram2d\"}],\"histogram\":[{\"marker\":{\"pattern\":{\"fillmode\":\"overlay\",\"size\":10,\"solidity\":0.2}},\"type\":\"histogram\"}],\"mesh3d\":[{\"colorbar\":{\"outlinewidth\":0,\"tickcolor\":\"rgb(237,237,237)\",\"ticklen\":6,\"ticks\":\"inside\"},\"type\":\"mesh3d\"}],\"parcoords\":[{\"line\":{\"colorbar\":{\"outlinewidth\":0,\"tickcolor\":\"rgb(237,237,237)\",\"ticklen\":6,\"ticks\":\"inside\"}},\"type\":\"parcoords\"}],\"pie\":[{\"automargin\":true,\"type\":\"pie\"}],\"scatter3d\":[{\"line\":{\"colorbar\":{\"outlinewidth\":0,\"tickcolor\":\"rgb(237,237,237)\",\"ticklen\":6,\"ticks\":\"inside\"}},\"marker\":{\"colorbar\":{\"outlinewidth\":0,\"tickcolor\":\"rgb(237,237,237)\",\"ticklen\":6,\"ticks\":\"inside\"}},\"type\":\"scatter3d\"}],\"scattercarpet\":[{\"marker\":{\"colorbar\":{\"outlinewidth\":0,\"tickcolor\":\"rgb(237,237,237)\",\"ticklen\":6,\"ticks\":\"inside\"}},\"type\":\"scattercarpet\"}],\"scattergeo\":[{\"marker\":{\"colorbar\":{\"outlinewidth\":0,\"tickcolor\":\"rgb(237,237,237)\",\"ticklen\":6,\"ticks\":\"inside\"}},\"type\":\"scattergeo\"}],\"scattergl\":[{\"marker\":{\"colorbar\":{\"outlinewidth\":0,\"tickcolor\":\"rgb(237,237,237)\",\"ticklen\":6,\"ticks\":\"inside\"}},\"type\":\"scattergl\"}],\"scattermapbox\":[{\"marker\":{\"colorbar\":{\"outlinewidth\":0,\"tickcolor\":\"rgb(237,237,237)\",\"ticklen\":6,\"ticks\":\"inside\"}},\"type\":\"scattermapbox\"}],\"scatterpolargl\":[{\"marker\":{\"colorbar\":{\"outlinewidth\":0,\"tickcolor\":\"rgb(237,237,237)\",\"ticklen\":6,\"ticks\":\"inside\"}},\"type\":\"scatterpolargl\"}],\"scatterpolar\":[{\"marker\":{\"colorbar\":{\"outlinewidth\":0,\"tickcolor\":\"rgb(237,237,237)\",\"ticklen\":6,\"ticks\":\"inside\"}},\"type\":\"scatterpolar\"}],\"scatter\":[{\"fillpattern\":{\"fillmode\":\"overlay\",\"size\":10,\"solidity\":0.2},\"type\":\"scatter\"}],\"scatterternary\":[{\"marker\":{\"colorbar\":{\"outlinewidth\":0,\"tickcolor\":\"rgb(237,237,237)\",\"ticklen\":6,\"ticks\":\"inside\"}},\"type\":\"scatterternary\"}],\"surface\":[{\"colorbar\":{\"outlinewidth\":0,\"tickcolor\":\"rgb(237,237,237)\",\"ticklen\":6,\"ticks\":\"inside\"},\"colorscale\":[[0,\"rgb(20,44,66)\"],[1,\"rgb(90,179,244)\"]],\"type\":\"surface\"}],\"table\":[{\"cells\":{\"fill\":{\"color\":\"rgb(237,237,237)\"},\"line\":{\"color\":\"white\"}},\"header\":{\"fill\":{\"color\":\"rgb(217,217,217)\"},\"line\":{\"color\":\"white\"}},\"type\":\"table\"}]},\"layout\":{\"annotationdefaults\":{\"arrowhead\":0,\"arrowwidth\":1},\"autotypenumbers\":\"strict\",\"coloraxis\":{\"colorbar\":{\"outlinewidth\":0,\"tickcolor\":\"rgb(237,237,237)\",\"ticklen\":6,\"ticks\":\"inside\"}},\"colorscale\":{\"sequential\":[[0,\"rgb(20,44,66)\"],[1,\"rgb(90,179,244)\"]],\"sequentialminus\":[[0,\"rgb(20,44,66)\"],[1,\"rgb(90,179,244)\"]]},\"colorway\":[\"#F8766D\",\"#A3A500\",\"#00BF7D\",\"#00B0F6\",\"#E76BF3\"],\"font\":{\"color\":\"rgb(51,51,51)\"},\"geo\":{\"bgcolor\":\"white\",\"lakecolor\":\"white\",\"landcolor\":\"rgb(237,237,237)\",\"showlakes\":true,\"showland\":true,\"subunitcolor\":\"white\"},\"hoverlabel\":{\"align\":\"left\"},\"hovermode\":\"closest\",\"paper_bgcolor\":\"white\",\"plot_bgcolor\":\"rgb(237,237,237)\",\"polar\":{\"angularaxis\":{\"gridcolor\":\"white\",\"linecolor\":\"white\",\"showgrid\":true,\"tickcolor\":\"rgb(51,51,51)\",\"ticks\":\"outside\"},\"bgcolor\":\"rgb(237,237,237)\",\"radialaxis\":{\"gridcolor\":\"white\",\"linecolor\":\"white\",\"showgrid\":true,\"tickcolor\":\"rgb(51,51,51)\",\"ticks\":\"outside\"}},\"scene\":{\"xaxis\":{\"backgroundcolor\":\"rgb(237,237,237)\",\"gridcolor\":\"white\",\"gridwidth\":2,\"linecolor\":\"white\",\"showbackground\":true,\"showgrid\":true,\"tickcolor\":\"rgb(51,51,51)\",\"ticks\":\"outside\",\"zerolinecolor\":\"white\"},\"yaxis\":{\"backgroundcolor\":\"rgb(237,237,237)\",\"gridcolor\":\"white\",\"gridwidth\":2,\"linecolor\":\"white\",\"showbackground\":true,\"showgrid\":true,\"tickcolor\":\"rgb(51,51,51)\",\"ticks\":\"outside\",\"zerolinecolor\":\"white\"},\"zaxis\":{\"backgroundcolor\":\"rgb(237,237,237)\",\"gridcolor\":\"white\",\"gridwidth\":2,\"linecolor\":\"white\",\"showbackground\":true,\"showgrid\":true,\"tickcolor\":\"rgb(51,51,51)\",\"ticks\":\"outside\",\"zerolinecolor\":\"white\"}},\"shapedefaults\":{\"fillcolor\":\"black\",\"line\":{\"width\":0},\"opacity\":0.3},\"ternary\":{\"aaxis\":{\"gridcolor\":\"white\",\"linecolor\":\"white\",\"showgrid\":true,\"tickcolor\":\"rgb(51,51,51)\",\"ticks\":\"outside\"},\"baxis\":{\"gridcolor\":\"white\",\"linecolor\":\"white\",\"showgrid\":true,\"tickcolor\":\"rgb(51,51,51)\",\"ticks\":\"outside\"},\"bgcolor\":\"rgb(237,237,237)\",\"caxis\":{\"gridcolor\":\"white\",\"linecolor\":\"white\",\"showgrid\":true,\"tickcolor\":\"rgb(51,51,51)\",\"ticks\":\"outside\"}},\"xaxis\":{\"automargin\":true,\"gridcolor\":\"white\",\"linecolor\":\"white\",\"showgrid\":true,\"tickcolor\":\"rgb(51,51,51)\",\"ticks\":\"outside\",\"title\":{\"standoff\":15},\"zerolinecolor\":\"white\"},\"yaxis\":{\"automargin\":true,\"gridcolor\":\"white\",\"linecolor\":\"white\",\"showgrid\":true,\"tickcolor\":\"rgb(51,51,51)\",\"ticks\":\"outside\",\"title\":{\"standoff\":15},\"zerolinecolor\":\"white\"}}},\"xaxis\":{\"anchor\":\"y\",\"domain\":[0.0,1.0],\"title\":{\"text\":\"gravity\"}},\"yaxis\":{\"anchor\":\"x\",\"domain\":[0.0,1.0],\"title\":{\"text\":\"escape\"}},\"legend\":{\"tracegroupgap\":0},\"margin\":{\"t\":60}},                        {\"responsive\": true}                    ).then(function(){\n",
              "                            \n",
              "var gd = document.getElementById('0dbffc63-65f6-42a8-aff9-d4a325914f13');\n",
              "var x = new MutationObserver(function (mutations, observer) {{\n",
              "        var display = window.getComputedStyle(gd).display;\n",
              "        if (!display || display === 'none') {{\n",
              "            console.log([gd, 'removed!']);\n",
              "            Plotly.purge(gd);\n",
              "            observer.disconnect();\n",
              "        }}\n",
              "}});\n",
              "\n",
              "// Listen for the removal of the full notebook cells\n",
              "var notebookContainer = gd.closest('#notebook-container');\n",
              "if (notebookContainer) {{\n",
              "    x.observe(notebookContainer, {childList: true});\n",
              "}}\n",
              "\n",
              "// Listen for the clearing of the current output cell\n",
              "var outputEl = gd.closest('.output');\n",
              "if (outputEl) {{\n",
              "    x.observe(outputEl, {childList: true});\n",
              "}}\n",
              "\n",
              "                        })                };                            </script>        </div>\n",
              "</body>\n",
              "</html>"
            ]
          },
          "metadata": {}
        }
      ]
    },
    {
      "cell_type": "markdown",
      "source": [
        "# Model Building"
      ],
      "metadata": {
        "id": "7nrJRztHJ02d"
      }
    },
    {
      "cell_type": "code",
      "source": [
        "from pyspark.ml.feature import VectorAssembler, StandardScaler\n",
        "from pyspark.ml.clustering import KMeans\n",
        "from pyspark.ml import Pipeline\n",
        "\n",
        "# set up each processing step with the correct input columns and output\n",
        "assemble=VectorAssembler(inputCols=num_cols, outputCol='features')\n",
        "scale=StandardScaler(inputCol='features',outputCol='standardized')\n",
        "km = KMeans(featuresCol = 'standardized')\n",
        "\n",
        "# assemble the pipeline \n",
        "pipe = Pipeline(stages=[assemble, scale, km])"
      ],
      "metadata": {
        "id": "zsQ-pvLtJwf9"
      },
      "execution_count": null,
      "outputs": []
    },
    {
      "cell_type": "code",
      "source": [
        "from pyspark.ml.evaluation import ClusteringEvaluator\n",
        "\n",
        "# set up evaluator \n",
        "evaluator = ClusteringEvaluator()\n",
        "\n",
        "# test between k=2 and 10 \n",
        "for k in range(2,10):\n",
        "  # set the KMeans stage of the pipe to hold each value of K and the random seed = 1 and fit that pipe to data  \n",
        "  kmeans = pipe.getStages()[-1].setK(k).setSeed(1)  \n",
        "  model = pipe.fit(df)\n",
        "  \n",
        "  # build a preds dataset of each k value\n",
        "  preds = model.transform(df)\n",
        "\n",
        "  # silhouette score each prediction set and print formatted output \n",
        "  silhouette = evaluator.evaluate(preds)\n",
        "  print(f'Tested: {k} clusters: {silhouette}')"
      ],
      "metadata": {
        "colab": {
          "base_uri": "https://localhost:8080/"
        },
        "id": "8bCbRvonJ2Hu",
        "outputId": "f398fc28-b439-4773-f00f-f72a14d5d738"
      },
      "execution_count": null,
      "outputs": [
        {
          "output_type": "stream",
          "name": "stdout",
          "text": [
            "Tested: 2 clusters: 0.985906445228239\n",
            "Tested: 3 clusters: 0.9853183536337629\n",
            "Tested: 4 clusters: 0.9288686572576516\n",
            "Tested: 5 clusters: 0.9063524257467865\n",
            "Tested: 6 clusters: 0.8596777095050427\n",
            "Tested: 7 clusters: 0.8360492437185751\n",
            "Tested: 8 clusters: -0.7386038523165039\n",
            "Tested: 9 clusters: 0.8514223592590151\n"
          ]
        }
      ]
    },
    {
      "cell_type": "markdown",
      "source": [
        "# Evaluation"
      ],
      "metadata": {
        "id": "njFTxtbbJ-dH"
      }
    },
    {
      "cell_type": "markdown",
      "source": [],
      "metadata": {
        "id": "yD6rQoOnJ-aU"
      }
    },
    {
      "cell_type": "code",
      "source": [
        "# set the random seed for the algorithm and the value for k\n",
        "pipe.getStages()[-1].setK(3).setSeed(1)  \n",
        "\n",
        "# fit model and transform the data showing a cut of the data to check output\n",
        "model = pipe.fit(df)\n",
        "clusters = model.transform(df)\n",
        "clusters.show(5)\n",
        "\n",
        "vis_df = clusters.toPandas()\n",
        "\n",
        "# build figure with 3D numeric dimensions and categorical isPlanet and prediction dimensions\n",
        "fig = px.scatter_3d(vis_df, x='gravity', y='escape', z='density', color='prediction', symbol='isPlanet', template='ggplot2', hover_name='englishName')\n",
        "fig.show()"
      ],
      "metadata": {
        "colab": {
          "base_uri": "https://localhost:8080/",
          "height": 733
        },
        "id": "N5DOOAEGJ90A",
        "outputId": "bcf45a88-3201-4bfb-93dd-9d2e8f3f1806"
      },
      "execution_count": null,
      "outputs": [
        {
          "output_type": "stream",
          "name": "stdout",
          "text": [
            "+------+-----------+--------+-------+-------+------+--------------------+--------------------+----------+\n",
            "|    id|englishName|isPlanet|density|gravity|escape|            features|        standardized|prediction|\n",
            "+------+-----------+--------+-------+-------+------+--------------------+--------------------+----------+\n",
            "|  lune|       Moon|   false|  3.344|   1.62|2380.0|[3.34400010108947...|[5.04482713061263...|         0|\n",
            "|phobos|     Phobos|   false|    1.9| 0.0057| 11.39|[1.89999997615814...|[2.86637892886519...|         0|\n",
            "|deimos|     Deimos|   false|   1.75|  0.003| 5.556|[1.75,0.003000000...|[2.64008588866244...|         0|\n",
            "|    io|         Io|   false|   3.53|   1.79|   0.0|[3.52999997138977...|[5.32543034939712...|         0|\n",
            "|europe|     Europa|   false|   3.01|   1.31|   0.0|[3.00999999046325...|[4.54094771411208...|         0|\n",
            "+------+-----------+--------+-------+-------+------+--------------------+--------------------+----------+\n",
            "only showing top 5 rows\n",
            "\n"
          ]
        },
        {
          "output_type": "display_data",
          "data": {
            "text/html": [
              "<html>\n",
              "<head><meta charset=\"utf-8\" /></head>\n",
              "<body>\n",
              "    <div>            <script src=\"https://cdnjs.cloudflare.com/ajax/libs/mathjax/2.7.5/MathJax.js?config=TeX-AMS-MML_SVG\"></script><script type=\"text/javascript\">if (window.MathJax && window.MathJax.Hub && window.MathJax.Hub.Config) {window.MathJax.Hub.Config({SVG: {font: \"STIX-Web\"}});}</script>                <script type=\"text/javascript\">window.PlotlyConfig = {MathJaxConfig: 'local'};</script>\n",
              "        <script src=\"https://cdn.plot.ly/plotly-2.18.2.min.js\"></script>                <div id=\"7dd53429-10cc-4fa7-be28-916e45a68c8a\" class=\"plotly-graph-div\" style=\"height:525px; width:100%;\"></div>            <script type=\"text/javascript\">                                    window.PLOTLYENV=window.PLOTLYENV || {};                                    if (document.getElementById(\"7dd53429-10cc-4fa7-be28-916e45a68c8a\")) {                    Plotly.newPlot(                        \"7dd53429-10cc-4fa7-be28-916e45a68c8a\",                        [{\"hovertemplate\":\"<b>%{hovertext}</b><br><br>isPlanet=False<br>gravity=%{x}<br>escape=%{y}<br>density=%{z}<br>prediction=%{marker.color}<extra></extra>\",\"hovertext\":[\"Moon\",\"Phobos\",\"Deimos\",\"Io\",\"Europa\",\"Ganymede\",\"Callisto\",\"Amalthea\",\"Himalia\",\"Elara\",\"Pasiphae\",\"Sinope\",\"Lysithea\",\"Carme\",\"Ananke\",\"Leda\",\"Thebe\",\"Adrastea\",\"Metis\",\"Callirrhoe\",\"Themisto\",\"Megaclite\",\"Taygete\",\"Chaldene\",\"Harpalyke\",\"Kalyke\",\"Iocaste\",\"Erinome\",\"Isonoe\",\"Praxidike\",\"Autonoe\",\"Thyone\",\"Hermippe\",\"Aitne\",\"Eurydome\",\"Euanthe\",\"Euporie\",\"Orthosie\",\"Sponde\",\"Kale\",\"Pasithee\",\"Hegemone\",\"Mneme\",\"Aoede\",\"Thelxinoe\",\"Arche\",\"Kallichore\",\"Helike\",\"Carpo\",\"Eukelade\",\"Cyllene\",\"Kore\",\"Herse\",\"S/2003 J 2\",\"Eupheme\",\"S/2003 J 4\",\"Eirene\",\"S/2003 J 9\",\"S/2003 J 10\",\"S/2003 J 12\",\"Philophrosyne\",\"S/2003 J 16\",\"S/2003 J 18\",\"S/2003 J 19\",\"S/2003 J 23\",\"Mimas\",\"Enceladus\",\"Tethys\",\"Dione\",\"Rhea\",\"Titan\",\"Hyperion\",\"Iapetus\",\"Phoebe\",\"Janus\",\"Epimetheus\",\"Helene\",\"Telesto\",\"Calypso\",\"Atlas\",\"Prometheus\",\"Pandora\",\"Pan\",\"Ymir\",\"Paaliaq\",\"Tarvos\",\"Ijiraq\",\"Suttungr\",\"Kiviuq\",\"Mundilfari\",\"Albiorix\",\"Skathi\",\"Erriapus\",\"Siarnaq\",\"Thrymr\",\"Narvi\",\"Methone\",\"Pallene\",\"Polydeuces\",\"Daphnis\",\"Aegir\",\"Bebhionn\",\"Bergelmir\",\"Bestla\",\"Farbauti\",\"Fenrir\",\"Fornjot\",\"Hati\",\"Hyrrokkin\",\"Kari\",\"Loge\",\"Skoll\",\"Surtur\",\"Anthe\",\"Jarnsaxa\",\"Greip\",\"Tarqeq\",\"Aegaeon\",\"S/2004 S 7\",\"S/2004 S 12\",\"S/2004 S 13\",\"S/2004 S 17\",\"S/2006 S 1\",\"S/2006 S 3\",\"S/2007 S 2\",\"S/2007 S 3\",\"S/2009 S 1\",\"Ariel\",\"Umbriel\",\"Titania\",\"Oberon\",\"Miranda\",\"Cordelia\",\"Ophelia\",\"Bianca\",\"Cressida\",\"Desdemona\",\"Juliet\",\"Portia\",\"Rosalind\",\"Belinda\",\"Puck\",\"Caliban\",\"Sycorax\",\"Prospero\",\"Setebos\",\"Stephano\",\"Trinculo\",\"Francisco\",\"Margaret\",\"Ferdinand\",\"Perdita\",\"Mab\",\"Cupid\",\"Triton\",\"Nereid\",\"Naiad\",\"Thalassa\",\"Despina\",\"Galatea\",\"Larissa\",\"Proteus\",\"Halimede\",\"Psamathe\",\"Sao\",\"Laomedeia\",\"Neso\",\"Charon\",\"Nix\",\"Hydra\",\"Namaka\",\"Hi\\u02bbiaka\",\"Dysnomia\",\"Dia\",\"S/2004 S 3\",\"S/2004 S 4\",\"S/2004 S 6\",\"S/2010 J 1\",\"S/2010 J 2\",\"1 Ceres\",\"6 Hebe\",\"47171 Lempo\",\"The Little Prince\",\"762 Pulcova\",\"4179 Toutatis\",\"50000 Quaoar\",\"2867 \\u0160teins\",\"136199 Eris\",\"5 Astraea\",\"5145 Pholus\",\"4769 Castalia\",\"Remus\",\"624 Hektor\",\"216 Kleopatra\",\"3753 Cruithne\",\"3 Juno\",\"10 Hygiea\",\"21 Lutetia\",\"253 Mathilde\",\"7 Iris\",\"433 Eros\",\"Vanth\",\"90377 Sedna\",\"10199 Chariklo\",\"87 Sylvia\",\"(243) Ida I Dactyl\",\"90482 Orcus\",\"Pluto\",\"5335 Damocles\",\"Romulus\",\"Alexhelios\",\"Cleoselene\",\"8 Flora\",\"2060 Chiron\",\"5261 Eureka\",\"588 Achilles\",\"Weywot\",\"28978 Ixion\",\"Shoemaker-Levy 9\",\"9 Metis\",\"136108 Haumea\",\"7066 Nessus\",\"25143 Itokawa\",\"10370 Hylonome\",\"45 Eugenia\",\"(308933) 2006 SQ372\",\"2 Pallas\",\"8405 Asbolus\",\"20000 Varuna\",\"4 Vesta\",\"243 Ida\",\"Comet Hyakutake\",\"951 Gaspra\",\"15760 Albion\",\"136472 Makemake\",\"Halley's Comet\",\"Sun\",\"Kerberos\",\"S/2011 J 1\",\"S/2011 J 2\",\"Styx\",\"Hippocamp\",\"S/2015 (136472) 1\",\"S/2017 J 1\",\"S/2016 J 1\",\"Valetudo\",\"S/2017 J 2\",\"S/2017 J 3\",\"Pandia\",\"S/2017 J 5\",\"S/2017 J 6\",\"S/2017 J 7\",\"S/2017 J 8\",\"S/2017 J 9\",\"Ersa\",\"Arrokoth\",\"101955 Bennu\",\"S/2004 S 22\",\"S/2004 S 21\",\"S/2004 S 20\",\"S/2004 S 23\",\"S/2004 S 24\",\"S/2004 S 25\",\"S/2004 S 26\",\"S/2004 S 27\",\"S/2004 S 28\",\"S/2004 S 29\",\"S/2004 S 30\",\"S/2004 S 31\",\"S/2004 S 32\",\"S/2004 S 33\",\"S/2004 S 34\",\"S/2004 S 35\",\"S/2004 S 36\",\"S/2004 S 37\",\"S/2004 S 38\",\"S/2004 S 39\",\"C/2020 F3 (NEOWISE)\",\"S/2003 J 24\"],\"legendgroup\":\"False\",\"marker\":{\"color\":[0,0,0,0,0,0,0,0,0,0,0,0,0,0,0,0,0,0,0,0,0,0,0,0,0,0,0,0,0,0,0,0,0,0,0,0,0,0,0,0,0,0,0,0,0,0,0,0,0,0,0,0,0,0,0,0,0,0,0,0,0,0,0,0,0,0,0,0,0,0,0,0,0,0,0,0,0,0,0,0,0,0,0,0,0,0,0,0,0,0,0,0,0,0,0,0,0,0,0,0,0,0,0,0,0,0,0,0,0,0,0,0,0,0,0,0,0,0,0,0,0,0,0,0,0,0,0,0,0,0,0,0,0,0,0,0,0,0,0,0,0,0,0,0,0,0,0,0,0,0,0,0,0,0,0,0,0,0,0,0,0,0,0,0,0,0,0,0,0,0,0,0,0,0,0,0,0,0,0,0,0,0,0,0,0,0,0,0,0,0,0,0,0,0,0,0,0,0,0,0,0,0,0,0,0,0,0,0,0,0,0,0,0,0,0,0,0,0,0,0,0,0,0,0,0,0,0,0,0,0,0,0,0,0,0,0,0,0,0,0,0,0,0,0,0,0,0,0,0,0,0,0,0,0,0,0,0,0,0,0,0,0,0,0,0,0,0,0,0,0,0,0,0,0,0,0,0,0,0],\"coloraxis\":\"coloraxis\",\"symbol\":\"circle\"},\"mode\":\"markers\",\"name\":\"False\",\"scene\":\"scene\",\"showlegend\":true,\"x\":[1.6200000047683716,0.00570000009611249,0.003000000026077032,1.7899999618530273,1.309999942779541,1.4279999732971191,1.2350000143051147,0.019999999552965164,0.06199999898672104,0.03099999949336052,0.02199999988079071,0.014000000432133675,0.013000000268220901,0.017000000923871994,0.009999999776482582,0.007300000172108412,0.019999999552965164,0.0020000000949949026,0.004999999888241291,0.003100000089034438,0.002899999963119626,0.0,0.0,0.0,0.0,0.0,0.0,0.0,0.0,0.0,0.001500000013038516,0.001500000013038516,0.001500000013038516,0.0012000000569969416,0.0012000000569969416,0.0012000000569969416,0.0,0.0008099999977275729,0.0008099999977275729,0.0008099999977275729,0.0008099999977275729,0.0,0.0,0.0,0.0,0.0012000000569969416,0.0,0.0,0.0,0.0,0.0,0.0,0.0,0.0,0.0,0.0,0.0,0.0,0.0,0.0,0.0,0.0,0.0,0.0,0.0008099999977275729,0.0,0.0,0.0,0.0,0.0,0.0,0.0,0.0,0.0,0.0,0.0,0.0,0.0,0.0,0.0,0.0,0.0,0.0,0.0,0.0,0.0,0.0,0.0,0.0,0.0,0.0,0.0,0.0,0.0,0.0,0.0,0.0,0.0,0.0,0.0,0.0,0.0,0.0,0.0,0.0,0.0,0.0,0.0,0.0,0.0,0.0,0.0,0.0,0.0,0.0,0.0,0.0,0.0,0.0,0.0,0.0,0.0,0.0,0.0,0.0,0.0,0.0,0.0,0.0,0.0,0.0,0.0,0.0,0.0,0.0,0.0,0.0,0.0,0.0,0.0,0.0,0.0,0.0,0.0,0.0,0.0,0.0,0.0,0.0,0.0,0.0,0.0,0.0,0.0,0.7799999713897705,0.07100000232458115,0.009999999776482582,0.013000000268220901,0.023000000044703484,0.029999999329447746,0.03400000184774399,0.07500000298023224,0.009999999776482582,0.0,0.009999999776482582,0.009999999776482582,0.0,0.0,0.0,0.0,0.0,0.0,0.0,0.0,0.0,0.0,0.0,0.0,0.0,0.2800000011920929,0.0,0.0,0.0,0.0,0.0,0.0,0.0,0.8199999928474426,0.0,0.0,0.0,0.0,0.0,0.0,0.0,0.0,0.0,0.0,0.0,0.0,0.0,0.0,0.0,0.0,0.0,0.0,0.0,0.6200000047683716,0.0,0.0,0.0,0.0,0.0,0.0,0.0,0.0,0.0,0.0,0.0,0.0,0.4009999930858612,0.0,0.0,0.0,0.0,0.0,0.0,0.0,0.0,0.0,0.0,0.0,0.0,0.0,0.5,0.0,0.0,0.0,0.0,0.0,0.0,0.0,0.0,0.0,0.0,0.0,0.0,0.0,0.0,0.0,0.0,0.0,0.0,0.0,0.0,0.0,0.0,0.0,0.0,0.0,0.0,0.0,0.0,0.0,0.0,0.0,0.0,0.0,0.0,0.0,0.0,0.0,0.0,0.0,0.0,0.0,0.0,0.0,0.0],\"y\":[2380.0,11.390000343322754,5.556000232696533,0.0,0.0,0.0,0.0,0.0,0.0,0.0,0.0,0.0,0.0,0.0,0.0,0.0,0.0,0.0,0.0,0.0,0.0,0.0,0.0,0.0,0.0,0.0,0.0,0.0,0.0,0.0,0.0,0.0,0.0,0.0,0.0,0.0,0.0,0.0,0.0,0.0,0.0,0.0,0.0,0.0,0.0,0.0,0.0,0.0,0.0,0.0,0.0,0.0,0.0,0.0,0.0,0.0,0.0,0.0,0.0,0.0,0.0,0.0,0.0,0.0,0.0,0.0,0.0,0.0,0.0,0.0,0.0,0.0,0.0,0.0,0.0,0.0,0.0,0.0,0.0,0.0,0.0,0.0,0.0,0.0,0.0,0.0,0.0,0.0,0.0,0.0,0.0,0.0,0.0,0.0,0.0,0.0,0.0,0.0,0.0,0.0,0.0,0.0,0.0,0.0,0.0,0.0,0.0,0.0,0.0,0.0,0.0,0.0,0.0,0.0,0.0,0.0,0.0,0.0,0.0,0.0,0.0,0.0,0.0,0.0,0.0,0.0,0.0,0.0,0.0,0.0,0.0,0.0,0.0,0.0,0.0,0.0,0.0,0.0,0.0,0.0,0.0,0.0,0.0,0.0,0.0,0.0,0.0,0.0,0.0,0.0,0.0,0.0,0.0,0.0,0.0,0.0,0.0,0.0,0.0,0.0,0.0,0.0,0.0,0.0,0.0,0.0,0.0,0.0,0.0,0.0,0.0,0.0,0.0,0.0,0.0,0.0,0.0,0.0,0.0,510.0,0.0,0.0,0.0,0.0,0.0,0.0,0.0,1380.0,0.0,0.0,0.0,0.0,0.0,0.0,0.0,0.0,0.0,0.0,0.0,0.0,0.0,0.0,0.0,0.0,0.0,0.0,0.0,1210.0,0.0,0.0,0.0,0.0,0.0,0.0,0.0,0.0,0.0,0.0,0.0,0.0,809.0,0.0,0.0,0.0,0.0,0.0,0.0,0.0,0.0,0.0,0.0,0.0,0.0,0.0,800.0,0.0,0.0,0.0,0.0,0.0,0.0,0.0,0.0,0.0,0.0,0.0,0.0,0.0,0.0,0.0,0.0,0.0,0.0,0.0,0.0,0.0,0.0,0.0,0.0,0.0,0.0,0.0,0.0,0.0,0.0,0.0,0.0,0.0,0.0,0.0,0.0,0.0,0.0,0.0,0.0,0.0,0.0,0.0,0.0],\"z\":[3.3440001010894775,1.899999976158142,1.75,3.5299999713897705,3.009999990463257,1.940000057220459,1.8300000429153442,3.0999999046325684,1.0,1.0,1.0,1.0,1.0,1.0,1.0,1.0,1.0,1.0,1.0,1.0,1.0,1.0,1.0,1.0,1.0,1.0,1.0,1.0,1.0,1.0,1.0,1.0,1.0,1.0,1.0,1.0,1.0,1.0,1.0,1.0,1.0,1.0,1.0,1.0,1.0,1.0,1.0,1.0,1.0,1.0,1.0,1.0,1.0,1.0,1.0,1.0,1.0,1.0,1.0,1.0,1.0,1.0,1.0,1.0,1.0,1.149999976158142,1.6100000143051147,0.9850000143051147,1.4800000190734863,1.2400000095367432,1.8799999952316284,0.550000011920929,1.090000033378601,1.6399999856948853,0.6299999952316284,0.6399999856948853,1.2999999523162842,1.0,1.0,0.5,0.47999998927116394,0.49000000953674316,0.41999998688697815,1.0,1.0,1.0,1.0,1.0,1.0,1.0,1.0,1.0,1.0,1.0,1.0,1.0,1.0,1.0,1.0,0.3400000035762787,1.0,1.0,1.0,1.0,1.0,1.0,1.0,1.0,1.0,1.0,1.0,1.0,1.0,1.0,1.0,1.0,1.0,1.0,1.0,1.0,1.0,1.0,1.0,1.0,1.0,1.0,1.0,1.590000033378601,1.4600000381469727,1.659999966621399,1.559999942779541,1.2000000476837158,1.0,1.0,1.0,1.0,1.0,1.0,1.0,1.0,1.0,1.0,1.0,1.0,1.0,1.0,1.0,1.0,1.0,1.0,1.0,1.0,1.0,1.0,2.049999952316284,1.0,1.0,1.0,1.0,1.0,1.0,1.0,1.0,1.0,1.0,1.0,1.0,1.0,1.0,1.0,1.0,1.0,1.0,1.0,1.0,1.0,1.0,1.0,1.0,2.1610000133514404,1.0,1.0,1.0,1.0,1.0,1.0,1.0,2.5199999809265137,1.0,1.0,1.0,1.0,1.0,1.0,1.0,1.0,1.0,1.0,1.0,1.0,1.0,1.0,1.0,1.0,1.0,1.0,1.0,1.8899999856948853,1.0,1.0,1.0,1.0,1.0,1.0,1.0,1.0,1.0,1.0,1.0,1.0,2.5999999046325684,1.0,1.0,1.0,1.0,1.0,1.0,1.0,1.0,1.0,1.0,1.0,1.0,1.0,1.399999976158142,1.0,1.0,1.0,1.0,1.0,1.0,1.0,1.0,1.0,1.0,1.0,1.0,1.0,1.0,1.0,1.0,1.0,1.0,1.0,1.0,1.0,1.0,0.0,0.0,0.0,0.0,0.0,0.0,0.0,0.0,0.0,0.0,0.0,0.0,0.0,0.0,0.0,0.0,0.0,0.0,0.0,0.0,0.0,0.0],\"type\":\"scatter3d\"},{\"hovertemplate\":\"<b>%{hovertext}</b><br><br>isPlanet=True<br>gravity=%{x}<br>escape=%{y}<br>density=%{z}<br>prediction=%{marker.color}<extra></extra>\",\"hovertext\":[\"Uranus\",\"Neptune\",\"Mars\",\"Mercury\",\"Saturn\",\"Earth\",\"Venus\"],\"legendgroup\":\"True\",\"marker\":{\"color\":[1,1,2,2,1,2,2],\"coloraxis\":\"coloraxis\",\"symbol\":\"diamond\"},\"mode\":\"markers\",\"name\":\"True\",\"scene\":\"scene\",\"showlegend\":true,\"x\":[8.869999885559082,11.149999618530273,3.7100000381469727,3.700000047683716,10.4399995803833,9.800000190734863,8.869999885559082],\"y\":[21380.0,23560.0,5030.0,4250.0,36090.0,11190.0,10360.0],\"z\":[1.2699999809265137,1.6380000114440918,3.9340999126434326,5.429100036621094,0.6870999932289124,5.513599872589111,5.243000030517578],\"type\":\"scatter3d\"}],                        {\"template\":{\"data\":{\"barpolar\":[{\"marker\":{\"line\":{\"color\":\"rgb(237,237,237)\",\"width\":0.5},\"pattern\":{\"fillmode\":\"overlay\",\"size\":10,\"solidity\":0.2}},\"type\":\"barpolar\"}],\"bar\":[{\"error_x\":{\"color\":\"rgb(51,51,51)\"},\"error_y\":{\"color\":\"rgb(51,51,51)\"},\"marker\":{\"line\":{\"color\":\"rgb(237,237,237)\",\"width\":0.5},\"pattern\":{\"fillmode\":\"overlay\",\"size\":10,\"solidity\":0.2}},\"type\":\"bar\"}],\"carpet\":[{\"aaxis\":{\"endlinecolor\":\"rgb(51,51,51)\",\"gridcolor\":\"white\",\"linecolor\":\"white\",\"minorgridcolor\":\"white\",\"startlinecolor\":\"rgb(51,51,51)\"},\"baxis\":{\"endlinecolor\":\"rgb(51,51,51)\",\"gridcolor\":\"white\",\"linecolor\":\"white\",\"minorgridcolor\":\"white\",\"startlinecolor\":\"rgb(51,51,51)\"},\"type\":\"carpet\"}],\"choropleth\":[{\"colorbar\":{\"outlinewidth\":0,\"tickcolor\":\"rgb(237,237,237)\",\"ticklen\":6,\"ticks\":\"inside\"},\"type\":\"choropleth\"}],\"contourcarpet\":[{\"colorbar\":{\"outlinewidth\":0,\"tickcolor\":\"rgb(237,237,237)\",\"ticklen\":6,\"ticks\":\"inside\"},\"type\":\"contourcarpet\"}],\"contour\":[{\"colorbar\":{\"outlinewidth\":0,\"tickcolor\":\"rgb(237,237,237)\",\"ticklen\":6,\"ticks\":\"inside\"},\"colorscale\":[[0,\"rgb(20,44,66)\"],[1,\"rgb(90,179,244)\"]],\"type\":\"contour\"}],\"heatmapgl\":[{\"colorbar\":{\"outlinewidth\":0,\"tickcolor\":\"rgb(237,237,237)\",\"ticklen\":6,\"ticks\":\"inside\"},\"colorscale\":[[0,\"rgb(20,44,66)\"],[1,\"rgb(90,179,244)\"]],\"type\":\"heatmapgl\"}],\"heatmap\":[{\"colorbar\":{\"outlinewidth\":0,\"tickcolor\":\"rgb(237,237,237)\",\"ticklen\":6,\"ticks\":\"inside\"},\"colorscale\":[[0,\"rgb(20,44,66)\"],[1,\"rgb(90,179,244)\"]],\"type\":\"heatmap\"}],\"histogram2dcontour\":[{\"colorbar\":{\"outlinewidth\":0,\"tickcolor\":\"rgb(237,237,237)\",\"ticklen\":6,\"ticks\":\"inside\"},\"colorscale\":[[0,\"rgb(20,44,66)\"],[1,\"rgb(90,179,244)\"]],\"type\":\"histogram2dcontour\"}],\"histogram2d\":[{\"colorbar\":{\"outlinewidth\":0,\"tickcolor\":\"rgb(237,237,237)\",\"ticklen\":6,\"ticks\":\"inside\"},\"colorscale\":[[0,\"rgb(20,44,66)\"],[1,\"rgb(90,179,244)\"]],\"type\":\"histogram2d\"}],\"histogram\":[{\"marker\":{\"pattern\":{\"fillmode\":\"overlay\",\"size\":10,\"solidity\":0.2}},\"type\":\"histogram\"}],\"mesh3d\":[{\"colorbar\":{\"outlinewidth\":0,\"tickcolor\":\"rgb(237,237,237)\",\"ticklen\":6,\"ticks\":\"inside\"},\"type\":\"mesh3d\"}],\"parcoords\":[{\"line\":{\"colorbar\":{\"outlinewidth\":0,\"tickcolor\":\"rgb(237,237,237)\",\"ticklen\":6,\"ticks\":\"inside\"}},\"type\":\"parcoords\"}],\"pie\":[{\"automargin\":true,\"type\":\"pie\"}],\"scatter3d\":[{\"line\":{\"colorbar\":{\"outlinewidth\":0,\"tickcolor\":\"rgb(237,237,237)\",\"ticklen\":6,\"ticks\":\"inside\"}},\"marker\":{\"colorbar\":{\"outlinewidth\":0,\"tickcolor\":\"rgb(237,237,237)\",\"ticklen\":6,\"ticks\":\"inside\"}},\"type\":\"scatter3d\"}],\"scattercarpet\":[{\"marker\":{\"colorbar\":{\"outlinewidth\":0,\"tickcolor\":\"rgb(237,237,237)\",\"ticklen\":6,\"ticks\":\"inside\"}},\"type\":\"scattercarpet\"}],\"scattergeo\":[{\"marker\":{\"colorbar\":{\"outlinewidth\":0,\"tickcolor\":\"rgb(237,237,237)\",\"ticklen\":6,\"ticks\":\"inside\"}},\"type\":\"scattergeo\"}],\"scattergl\":[{\"marker\":{\"colorbar\":{\"outlinewidth\":0,\"tickcolor\":\"rgb(237,237,237)\",\"ticklen\":6,\"ticks\":\"inside\"}},\"type\":\"scattergl\"}],\"scattermapbox\":[{\"marker\":{\"colorbar\":{\"outlinewidth\":0,\"tickcolor\":\"rgb(237,237,237)\",\"ticklen\":6,\"ticks\":\"inside\"}},\"type\":\"scattermapbox\"}],\"scatterpolargl\":[{\"marker\":{\"colorbar\":{\"outlinewidth\":0,\"tickcolor\":\"rgb(237,237,237)\",\"ticklen\":6,\"ticks\":\"inside\"}},\"type\":\"scatterpolargl\"}],\"scatterpolar\":[{\"marker\":{\"colorbar\":{\"outlinewidth\":0,\"tickcolor\":\"rgb(237,237,237)\",\"ticklen\":6,\"ticks\":\"inside\"}},\"type\":\"scatterpolar\"}],\"scatter\":[{\"fillpattern\":{\"fillmode\":\"overlay\",\"size\":10,\"solidity\":0.2},\"type\":\"scatter\"}],\"scatterternary\":[{\"marker\":{\"colorbar\":{\"outlinewidth\":0,\"tickcolor\":\"rgb(237,237,237)\",\"ticklen\":6,\"ticks\":\"inside\"}},\"type\":\"scatterternary\"}],\"surface\":[{\"colorbar\":{\"outlinewidth\":0,\"tickcolor\":\"rgb(237,237,237)\",\"ticklen\":6,\"ticks\":\"inside\"},\"colorscale\":[[0,\"rgb(20,44,66)\"],[1,\"rgb(90,179,244)\"]],\"type\":\"surface\"}],\"table\":[{\"cells\":{\"fill\":{\"color\":\"rgb(237,237,237)\"},\"line\":{\"color\":\"white\"}},\"header\":{\"fill\":{\"color\":\"rgb(217,217,217)\"},\"line\":{\"color\":\"white\"}},\"type\":\"table\"}]},\"layout\":{\"annotationdefaults\":{\"arrowhead\":0,\"arrowwidth\":1},\"autotypenumbers\":\"strict\",\"coloraxis\":{\"colorbar\":{\"outlinewidth\":0,\"tickcolor\":\"rgb(237,237,237)\",\"ticklen\":6,\"ticks\":\"inside\"}},\"colorscale\":{\"sequential\":[[0,\"rgb(20,44,66)\"],[1,\"rgb(90,179,244)\"]],\"sequentialminus\":[[0,\"rgb(20,44,66)\"],[1,\"rgb(90,179,244)\"]]},\"colorway\":[\"#F8766D\",\"#A3A500\",\"#00BF7D\",\"#00B0F6\",\"#E76BF3\"],\"font\":{\"color\":\"rgb(51,51,51)\"},\"geo\":{\"bgcolor\":\"white\",\"lakecolor\":\"white\",\"landcolor\":\"rgb(237,237,237)\",\"showlakes\":true,\"showland\":true,\"subunitcolor\":\"white\"},\"hoverlabel\":{\"align\":\"left\"},\"hovermode\":\"closest\",\"paper_bgcolor\":\"white\",\"plot_bgcolor\":\"rgb(237,237,237)\",\"polar\":{\"angularaxis\":{\"gridcolor\":\"white\",\"linecolor\":\"white\",\"showgrid\":true,\"tickcolor\":\"rgb(51,51,51)\",\"ticks\":\"outside\"},\"bgcolor\":\"rgb(237,237,237)\",\"radialaxis\":{\"gridcolor\":\"white\",\"linecolor\":\"white\",\"showgrid\":true,\"tickcolor\":\"rgb(51,51,51)\",\"ticks\":\"outside\"}},\"scene\":{\"xaxis\":{\"backgroundcolor\":\"rgb(237,237,237)\",\"gridcolor\":\"white\",\"gridwidth\":2,\"linecolor\":\"white\",\"showbackground\":true,\"showgrid\":true,\"tickcolor\":\"rgb(51,51,51)\",\"ticks\":\"outside\",\"zerolinecolor\":\"white\"},\"yaxis\":{\"backgroundcolor\":\"rgb(237,237,237)\",\"gridcolor\":\"white\",\"gridwidth\":2,\"linecolor\":\"white\",\"showbackground\":true,\"showgrid\":true,\"tickcolor\":\"rgb(51,51,51)\",\"ticks\":\"outside\",\"zerolinecolor\":\"white\"},\"zaxis\":{\"backgroundcolor\":\"rgb(237,237,237)\",\"gridcolor\":\"white\",\"gridwidth\":2,\"linecolor\":\"white\",\"showbackground\":true,\"showgrid\":true,\"tickcolor\":\"rgb(51,51,51)\",\"ticks\":\"outside\",\"zerolinecolor\":\"white\"}},\"shapedefaults\":{\"fillcolor\":\"black\",\"line\":{\"width\":0},\"opacity\":0.3},\"ternary\":{\"aaxis\":{\"gridcolor\":\"white\",\"linecolor\":\"white\",\"showgrid\":true,\"tickcolor\":\"rgb(51,51,51)\",\"ticks\":\"outside\"},\"baxis\":{\"gridcolor\":\"white\",\"linecolor\":\"white\",\"showgrid\":true,\"tickcolor\":\"rgb(51,51,51)\",\"ticks\":\"outside\"},\"bgcolor\":\"rgb(237,237,237)\",\"caxis\":{\"gridcolor\":\"white\",\"linecolor\":\"white\",\"showgrid\":true,\"tickcolor\":\"rgb(51,51,51)\",\"ticks\":\"outside\"}},\"xaxis\":{\"automargin\":true,\"gridcolor\":\"white\",\"linecolor\":\"white\",\"showgrid\":true,\"tickcolor\":\"rgb(51,51,51)\",\"ticks\":\"outside\",\"title\":{\"standoff\":15},\"zerolinecolor\":\"white\"},\"yaxis\":{\"automargin\":true,\"gridcolor\":\"white\",\"linecolor\":\"white\",\"showgrid\":true,\"tickcolor\":\"rgb(51,51,51)\",\"ticks\":\"outside\",\"title\":{\"standoff\":15},\"zerolinecolor\":\"white\"}}},\"scene\":{\"domain\":{\"x\":[0.0,1.0],\"y\":[0.0,1.0]},\"xaxis\":{\"title\":{\"text\":\"gravity\"}},\"yaxis\":{\"title\":{\"text\":\"escape\"}},\"zaxis\":{\"title\":{\"text\":\"density\"}}},\"coloraxis\":{\"colorbar\":{\"title\":{\"text\":\"prediction\"}},\"colorscale\":[[0.0,\"rgb(20,44,66)\"],[1.0,\"rgb(90,179,244)\"]]},\"legend\":{\"title\":{\"text\":\"isPlanet\"},\"tracegroupgap\":0},\"margin\":{\"t\":60}},                        {\"responsive\": true}                    ).then(function(){\n",
              "                            \n",
              "var gd = document.getElementById('7dd53429-10cc-4fa7-be28-916e45a68c8a');\n",
              "var x = new MutationObserver(function (mutations, observer) {{\n",
              "        var display = window.getComputedStyle(gd).display;\n",
              "        if (!display || display === 'none') {{\n",
              "            console.log([gd, 'removed!']);\n",
              "            Plotly.purge(gd);\n",
              "            observer.disconnect();\n",
              "        }}\n",
              "}});\n",
              "\n",
              "// Listen for the removal of the full notebook cells\n",
              "var notebookContainer = gd.closest('#notebook-container');\n",
              "if (notebookContainer) {{\n",
              "    x.observe(notebookContainer, {childList: true});\n",
              "}}\n",
              "\n",
              "// Listen for the clearing of the current output cell\n",
              "var outputEl = gd.closest('.output');\n",
              "if (outputEl) {{\n",
              "    x.observe(outputEl, {childList: true});\n",
              "}}\n",
              "\n",
              "                        })                };                            </script>        </div>\n",
              "</body>\n",
              "</html>"
            ]
          },
          "metadata": {}
        }
      ]
    }
  ]
}